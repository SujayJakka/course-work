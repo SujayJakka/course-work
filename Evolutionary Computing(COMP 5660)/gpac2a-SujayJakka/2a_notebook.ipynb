{
 "cells": [
  {
   "cell_type": "markdown",
   "id": "b274c70a",
   "metadata": {},
   "source": [
    "# Assignment 2a Notebook: Automated Design of AI Agents with Random Search\n",
    "Assignment Series 2 uses a variant of Pac-Man, which we call GPac, where the goal is to produce AI agents to play GPac. Assignment 2a (this assignment) will cover the design of AI Pac-Man agents with random search, Assignment 2b will cover the design of AI Pac-Man agents with genetic programming (GP), and Assignment 2c will cover the competitive co-evolution of AI Pac-Man and ghost agents playing against each other.\n",
    "\n",
    "Assignment Series 1 involved a large amount of tutorialization and guidance for both the EC concepts at hand as well as how to implement these concepts. Assignment Series 2, on the other hand, aims to explain the EC concepts while leaving much of the implementation specifics for you to handle independently. We will still provide some guidance and warn you of specific pitfalls, but the codebase you build during this assignment series will largely be of your own design.\n",
    "\n",
    "In this notebook, we'll lay the foundation for implementing agent design with GP by implementing random search (which you'll eventually use for GP in the next assignment). Unlike the previous random search assignment, however, we have opted to leave the specifics of how to implement the parse tree genotype as an open problem for you to solve.\n",
    "\n",
    "As usual, make sure you are in the `EC-env` environment. If you are not, terminate the notebook server, run `conda activate EC-env`, and restart the notebook server.\n",
    "\n",
    "To begin the assignment, execute the following cell."
   ]
  },
  {
   "cell_type": "code",
   "execution_count": 173,
   "id": "d5b80481",
   "metadata": {},
   "outputs": [
    {
     "name": "stdout",
     "output_type": "stream",
     "text": [
      "The autoreload extension is already loaded. To reload it, use:\n",
      "  %reload_ext autoreload\n",
      "Requirement already satisfied: snake-eyes-parser in /root/miniconda3/envs/EC-env/lib/python3.11/site-packages (0.1.0)\n",
      "\u001b[33mWARNING: Running pip as the 'root' user can result in broken permissions and conflicting behaviour with the system package manager, possibly rendering your system unusable.It is recommended to use a virtual environment instead: https://pip.pypa.io/warnings/venv. Use the --root-user-action option if you know what you are doing and want to suppress this warning.\u001b[0m\u001b[33m\n",
      "\u001b[0mRequirement already satisfied: pytest in /root/miniconda3/envs/EC-env/lib/python3.11/site-packages (8.3.3)\n",
      "Requirement already satisfied: iniconfig in /root/miniconda3/envs/EC-env/lib/python3.11/site-packages (from pytest) (2.0.0)\n",
      "Requirement already satisfied: packaging in /root/miniconda3/envs/EC-env/lib/python3.11/site-packages (from pytest) (24.1)\n",
      "Requirement already satisfied: pluggy<2,>=1.5 in /root/miniconda3/envs/EC-env/lib/python3.11/site-packages (from pytest) (1.5.0)\n",
      "\u001b[33mWARNING: Running pip as the 'root' user can result in broken permissions and conflicting behaviour with the system package manager, possibly rendering your system unusable.It is recommended to use a virtual environment instead: https://pip.pypa.io/warnings/venv. Use the --root-user-action option if you know what you are doing and want to suppress this warning.\u001b[0m\u001b[33m\n",
      "\u001b[0mThe first cell has been executed!\n"
     ]
    }
   ],
   "source": [
    "# Configure this notebook to automatically reload modules as they're modified\n",
    "# https://stackoverflow.com/questions/1907993/autoreload-of-modules-in-ipython\n",
    "%load_ext autoreload\n",
    "%autoreload 2\n",
    "\n",
    "!pip install snake-eyes-parser\n",
    "!pip install pytest\n",
    "\n",
    "import warnings\n",
    "warnings.filterwarnings('ignore') # hopefully stop any pedantic warnings\n",
    "\n",
    "import matplotlib.pyplot as plt\n",
    "\n",
    "%matplotlib widget\n",
    "plt.rcParams['figure.figsize'] = (10.0, 3.0) # set default size of plots\n",
    "plt.rcParams['image.interpolation'] = 'nearest'\n",
    "plt.rcParams['figure.constrained_layout.use'] = True\n",
    "plt.rcParams['font.size'] = 8.0\n",
    "plt.rcParams['figure.titlesize'] = 12.0\n",
    "plt.rcParams['axes.titlesize'] = 12.0\n",
    "plt.rcParams['axes.labelsize'] = 8.0\n",
    "plt.rcParams['figure.dpi'] = 100.0\n",
    "plt.rcParams['savefig.dpi'] = 400.0\n",
    "plt.rcParams['animation.embed_limit'] = 2048\n",
    "\n",
    "import multiprocessing\n",
    "\n",
    "multiprocessing.set_start_method('fork', force=True)\n",
    "\n",
    "import os\n",
    "import statistics\n",
    "from IPython.display import display, HTML\n",
    "from pathlib import Path\n",
    "from scipy import stats\n",
    "from snake_eyes import read_config\n",
    "from fitness import play_GPac\n",
    "from gpac import render_game\n",
    "from histogram import RoundedFitnessHistogramMaker\n",
    "\n",
    "print('The first cell has been executed!')"
   ]
  },
  {
   "cell_type": "markdown",
   "id": "330fef65",
   "metadata": {},
   "source": [
    "## GPac\n",
    "In this assignment series, we'll be playing GPac: a game inspired by Pac-Man but using simplified mechanics. To make this assignment more about your ability to understand and implement search algorithms, not your ability to implement a video game, we're providing you with an implementation of GPac. We will now go over the rules of the game in detail; this should be easy to understand if you're familiar with any version of Pac-Man.\n",
    "\n",
    "In GPac, the world is a two-dimensional grid and there is no world wrap (agents cannot go off the edges of the map, unlike some versions of Pac-Man where this moves them to the opposite side). The origin of the map is in the bottom-left corner. There are two types of agents: Pac-Man and the Ghosts. Pac-Man always starts at the top-left cell and the three ghosts each spawn at a different corner of the map. These agents are guided by controllers, which is what your search algorithms will produce. Agents move in cardinal directions (up, down, left, right); Pac-Man can choose to not move, but the Ghosts cannot. Agents move from one grid cell to another in a discrete fashion (i.e., they move a whole cell at a time). Ghosts can occupy the same grid cell as other ghosts. If Pac-Man and a Ghost occupy the same cell, the game ends. If Pac-Man and a Ghost exchange cells, the game ends.\n",
    "\n",
    "The map is filled with pills. If Pac-Man enters a cell that contains a pill, the pill is removed, and Pac-Man's score is increased. If all pills have been removed from the world, the game ends. The game will try to spawn a fruit in a corner of the map after every multiple of a configurable number of turns. This will only occur if there is not already a fruit on the map. If Pac-Man enters the cell that contains the fruit, the fruit is removed, and Pac-Man's score is increased by the fruit score which is user-configurable.\n",
    "\n",
    "Each game starts with time equal to the number of grid cells in the world multiplied by a configurable coefficient. Each turn is one time step. When the time limit reaches zero, the game is over. Each turn, the game gives each of the agent's controllers the current game state. Each controller will then choose what move to make (up, down, left, right for all controllers, and the option of no movement for Pac-Man only). Once all of the agents have determined their next move, the game state will simultaneously update every agent's position and decrease the time remaining by one. After everyone has moved, the game will check for the following conditions *in this order*:\n",
    "1. Pac-Man exchanged cells with a Ghost, reducing Pac-Man's score and ending the game.\n",
    "2. Pac-Man is in a cell with a pill, increasing Pac-Man's score and removing the pill.\n",
    "3. Pac-Man is in a cell with the fruit, increasing Pac-Man's score and removing the fruit.\n",
    "4. There are no more pills, increasing Pac-Man's score and ending the game.\n",
    "5. Pac-Man moved into the same cell as a ghost, reducing Pac-Man's score and ending the game.\n",
    "6. Time remaining is equal to zero, ending the game.\n",
    "\n",
    "Pac-Man's score is the sum of:\n",
    "* The percentage of pills consumed.\n",
    "* The number of fruit consumed, times the fruit score.\n",
    "* The percentage of time remaining, **if** the game ended because there are no more pills.\n",
    "* The negation of the percentage of time remaining, **if** the game ended because a ghost caught Pac-Man.\n",
    "\n",
    "This score should be used directly for the fitness of the Pac-Man controller. That is, we want to find a Pac-Man controller that can produce the greatest score. This score was explicitly designed to be useful as a fitness function, and not necessarily a faithful recreation of the score calculation from any version of Pac-Man. In some research contexts this may be considered dubious, as we're adding human knowledge to the search rather than using a naïve definition of fitness, but it should (hopefully) help your algorithms obtain better performance.\n",
    "\n",
    "## play_GPac\n",
    "Below is a function call to the main fitness function of this assignment series, `play_GPac`. The parameters passed in this example result in a game where agents select random valid moves. The returned values are the Pac-Man score and a log of the game."
   ]
  },
  {
   "cell_type": "code",
   "execution_count": 174,
   "id": "22f35a12",
   "metadata": {},
   "outputs": [
    {
     "name": "stdout",
     "output_type": "stream",
     "text": [
      "Pac-Man's score was -69.38560354374307, and the game log was written to example_game.txt\n"
     ]
    }
   ],
   "source": [
    "config = read_config('configs/2a/green_config.txt', globals(), locals())\n",
    "\n",
    "# Call the fitness function, with no controllers.\n",
    "example_score, example_log = play_GPac(None, **config['game'])\n",
    "\n",
    "# Write the game log to a file.\n",
    "example_game_log_path = 'example_game.txt'\n",
    "with open(example_game_log_path, 'w') as f:\n",
    "    [f.write(f'{line}\\n') for line in example_log]\n",
    "\n",
    "# Print for tutorialization.\n",
    "print(f\"Pac-Man's score was {example_score}, and the game log was written to {example_game_log_path}\")"
   ]
  },
  {
   "cell_type": "markdown",
   "id": "d8edfa13-1235-4888-8602-393d34365bb6",
   "metadata": {},
   "source": [
    "Running the previous cell should have made an `example_game.txt` file in your repository. You can upload this file to [the online visualizer](http://bonsai.auburn.edu/dtauritz/courses/ec/intro/2020fall/visualizer.html) to watch the full game. As these agents made completely random decisions, the gameplay is probably unimpressive, but this may give you a better idea of how the game works.\n",
    "\n",
    "As a preferred alternative to the online visualizer, you can run the following cell to render the game in your Notebook. Note this may take a few minutes depending on your computer."
   ]
  },
  {
   "cell_type": "code",
   "execution_count": null,
   "id": "f309d4ae-990c-4693-be9c-4a77f040d711",
   "metadata": {},
   "outputs": [],
   "source": [
    "display(HTML(render_game(example_log)))"
   ]
  },
  {
   "attachments": {
    "image.png": {
     "image/png": "[encoded data removed]"
    }
   },
   "cell_type": "markdown",
   "id": "45e2e060",
   "metadata": {},
   "source": [
    "## Problem Formulation\n",
    "Now that you've seen a game played by an agent that makes random actions, let's talk about how more intelligent AI agents will work in GPac. When an agent makes a move in GPac, it knows the outcome of its action. The agent doesn't necessarily know what actions its opponent(s) will make during the same turn, but we'll ignore that in this assignment series and consider only the outcome of an agent's immediate actions. That is, our agents will assume (incorrectly) that the other agents will stay where they are.\n",
    "\n",
    "More formally, for a given state $s$ and its corresponding action space $A(s)$, we know all valid actions, $a\\in A(s)$, and the resultant state from executing any of these actions, $s(a) \\to s'$. In this assignment series, you will automate the design of a value function $V(s')$ that approximates the value/utility of being in a particular state $s'$. The agent will select a valid action using one of the greedy policies $argmax_a (V(s'))$ or $argmin_a (V(s'))$. That is, for each state, the agent will choose whichever action leads to the best next state according to its value function $V$. This value function is what we will be using GP to design.\n",
    "\n",
    "In less formal terms, you are searching for a function to score how desirable a given state is. The action made by the agent is that which produces either the highest or lowest score (feel free to experiment and see which approach performs better).\n",
    "\n",
    "**Note:** You may see the value function $V$ used in reinforcement learning literature to denote a function that estimates the expected long-term reward of a policy. We are not strictly adhering to that definition in this assignment series, though the overall goal of searching for a performant agent is the same.\n",
    "\n",
    "## GPac Parse Trees\n",
    "The functions you generate will be in the form of parse tree expressions consisting of primitives. There are two types of primitives. These have many names, but the ones we will be using for these assignments are highlighted:\n",
    "* **Terminal**/sensor/leaf primitives: these extract values from the state $s'$. These have no children, and thus are only found at the very bottom of a branch in the tree.\n",
    "* **Nonterminal**/function/operator/internal primitives: these perform a calculation using the values produced by their children as input. In this assignment series, these have exactly two children.\n",
    "\n",
    "The required terminal primitives for this assignment are as follows:\n",
    "* `G` - Manhattan distance to nearest ghost\n",
    "* `P` - Manhattan distance to nearest pill\n",
    "* `F` - Manhattan distance to nearest fruit\n",
    "    * Should return the same value for any state that does not have a fruit on the map.\n",
    "* `W` - number of immediately adjacent walls\n",
    "    * Only counts adjacent walls in the four cardinal directions.\n",
    "    * Borders of the map are considered walls for the purposes of this primitive.\n",
    "* `C` - constant value\n",
    "    * Each `C` node should have a new value sampled *independently* when it is created. DO NOT use a single global value.\n",
    "    * Sampled from an arbitrary range, around the same magnitude you expect from the other terminal nodes, including negative values.\n",
    "    * After it is created, a given `C` node should return the same value every time it is called.\n",
    "\n",
    "**Note**: The G, P, and F primitives use Manhattan distance without considering walls. Use the `manhattan` function in `fitness.py` for this calculation.\n",
    "\n",
    "The required nonterminal primitives for this assignment are as follows, where $a$ is the value of the left child and $b$ is the value of the right child:\n",
    "* `+`: $a+b$\n",
    "* `-`: $a-b$\n",
    "* `*`: $a*b$\n",
    "* `/`:\n",
    "$\\left\\{\\begin{array}{lr}\n",
    "    a\\ /\\ b, & \\text{if } b \\neq 0\\\\\n",
    "    f(a), & \\text{if } b = 0\n",
    "\\end{array}\\right\\}$ where $f(a)$ represents some way of gracefully handling `a/0`\n",
    "* `RAND` - random number uniformly chosen from the range `[min(a, b), max(a, b)]`\n",
    "\n",
    "**Note**: Keep in mind that floating-point numbers have a fixed range in Python, and you need to account for this in your operations (i.e, values beyond +/-`sys.float_info.max` will be silently changed to +/-`inf`). You may want to prevent this from happening.\n",
    "\n",
    "Parse trees are executed by performing a depth-first in-order traversal. As an example, the function $V(s') =$ `(1.2/G)*RAND(W,P)` would be represented as the following parse tree:\n",
    "\n",
    "![image.png](attachment:image.png)\n",
    "\n",
    "When represented in the prescribed output format we will discuss later, this example parse tree appears as follows:\n",
    "```\n",
    "*\n",
    "|/\n",
    "||1.2\n",
    "||G\n",
    "|RAND\n",
    "||W\n",
    "||P\n",
    "```\n",
    "\n",
    "## Implementing The Parse Tree Genotype\n",
    "Recall that in this assignment, it is up to you to implement the parse tree gene representation as an open-ended problem. This assignment will focus on generating and executing trees, but keep in mind that the next assignment will have you recombine and mutate trees as well. Your implementation for this assignment should be able to create parse trees with the grow and full methods, print trees as strings using the prescribed output format, and execute parse trees to evaluate a state $s'$. The details of these requirements will be discussed momentarily. We informally suggest that you follow the remainder of this notebook in order, as we believe it to be the most logical order for most people. However, **this assignment is open-ended and you are encouraged to implement the required functionality in the order that makes the most sense *to you***. As such, you are welcome to complete sections of this notebook out of order so long as the notebook in your final submission runs from beginning to end.\n",
    "\n",
    "**We strongly recommend that you implement your parse tree gene representation as a new class.** An object instance of your new class will later be assigned to the `genes` member variable of the provided `TreeGenotype` class. You are welcome to define your tree class in the `tree_genotype.py` file since your representation class could be tightly coupled with the provided `TreeGenotype` class. If you wish to define your class in a new file, however, please import your file in the following cell. To be clear, the `genes` variable will represent the entire parse tree, analogous to the linear genotype from Assignment Series 1."
   ]
  },
  {
   "cell_type": "code",
   "execution_count": 175,
   "id": "24f7cf17",
   "metadata": {},
   "outputs": [],
   "source": [
    "from tree_genotype import *"
   ]
  },
  {
   "cell_type": "markdown",
   "id": "2ca435e3",
   "metadata": {},
   "source": [
    "### The Full Method for Tree Initialization\n",
    "Assume we have a set of nonterminal primitives $F$, a set of terminal input primitives $T$, and an initial depth limit $D_{max}$. In the full method, **every branch of the tree has depth $D_{max}$**. That is, nodes at depth $d$ are chosen from $F$ if $d<D_{max}$ or from $T$ if $d=D_{max}$ [1]. Depth is calculated as the distance from the root, so the root has depth 0, its children have depth 1, their children have depth 2, etc.\n",
    "\n",
    "In less formal terms, you create a tree by selecting random nonterminal nodes until you reach the depth limit. Once you reach the depth limit, you select random terminal nodes. This produces full trees where each branch reaches the depth limit.\n",
    "\n",
    "**HINT**: These will be called from the `TreeGenotype.initialization` class method. If you pass that function `**config['pac_init']`, it will have `depth_limit` from your config, and it will have the `terminals` and `nonterminals` variables from your config inside of `kwargs`. Refer back to the parameter unpacking tutorial from Assignment 1b for more examples about this technique, which we used extensively in Assignment Series 1. You could use a similar technique (unpacking `kwargs`) to cleanly pass the `terminals` and `nonterminals` variables to your code for the full method.\n",
    "\n",
    "Implement the full method in your .py file, then call it in the next cell to instantiate a tree. You can modify this cell to test your implementation however you wish."
   ]
  },
  {
   "cell_type": "code",
   "execution_count": 176,
   "id": "3877fdb6",
   "metadata": {},
   "outputs": [],
   "source": [
    "config = read_config('configs/2a/green_config.txt', globals(), locals())\n",
    "for depth in [1, 2, 3, 4, 5]:\n",
    "    # Instantiate a tree with your full method using the given depth.\n",
    "    config[\"pac_init\"][\"depth_limit\"] = depth\n",
    "    tree = full_method(0, **config[\"pac_init\"])\n",
    "    \n",
    "del config, tree"
   ]
  },
  {
   "cell_type": "markdown",
   "id": "1bfc450e",
   "metadata": {},
   "source": [
    "### The Grow Method for Tree Initialization\n",
    "Like the full method, assume we have a set of nonterminal primitives $F$, a set of terminal primitives $T$, and an initial depth limit $D_{max}$. In the grow method, however, nodes at depth $d$ are chosen from $F \\cup T$ if $d<D_{max}$ or from $T$ if $d=D_{max}$ [1].\n",
    "\n",
    "In less formal terms, you create a tree by randomly selecting a terminal *or* nonterminal node if under the depth limit. If at the depth limit, you select a random terminal node. This produces trees with less uniform branch depth than the full method since branches can terminate before the depth limit when a terminal node is selected.\n",
    "\n",
    "**Note**: This algorithm will come in handy when you implement mutation in Assignment 2b, since you can use it to grow new branches/subtrees on an existing tree. Try to write your code with this plan in mind.\n",
    "\n",
    "Implement the grow method in your .py file, then call it in the next cell to instantiate a tree. You can modify this cell to test your implementation however you wish."
   ]
  },
  {
   "cell_type": "code",
   "execution_count": 177,
   "id": "f43f13ef",
   "metadata": {},
   "outputs": [],
   "source": [
    "config = read_config('configs/2a/green_config.txt', globals(), locals())\n",
    "for depth in [1, 2, 3, 4, 5]:\n",
    "    # Instantiate a tree with your grow method using the given depth.\n",
    "    config[\"pac_init\"][\"depth_limit\"] = depth\n",
    "    tree = grow_method(0, **config[\"pac_init\"])\n",
    "\n",
    "del config, tree"
   ]
  },
  {
   "cell_type": "markdown",
   "id": "ad5f03c2",
   "metadata": {},
   "source": [
    "### Population Initialization with Ramped Half-And-Half\n",
    "Now that the grow and full methods are implemented, you have the necessary components to implement ramped half-and-half population initialization. In ramped half-and-half, half of the population is initialized with the grow method and the other half with the full method.\n",
    "\n",
    "The population should be generated with max depths distributed uniformly across the range `[1, depth_limit]`. `depth_limit` is in the config, and you can increase it to allow for more complicated trees, though you should not lower it beneath the default value we have provided. In practice you would assign depths deterministically, but we consider it acceptable to sample uniform randomly from this range each time you generate a tree.\n",
    "\n",
    "Implement the `initialization` class method of the `TreeGenotype` class in `tree_genotype.py` such that the `genes` member variable of each individual in the population is assigned a tree using the ramped half-and-half method.\n",
    "\n",
    "Once implemented, execute the following cell to call your ramped half-and-half implementation."
   ]
  },
  {
   "cell_type": "code",
   "execution_count": 178,
   "id": "ff287ad8",
   "metadata": {},
   "outputs": [],
   "source": [
    "config = read_config('configs/2a/green_config.txt', globals(), locals())\n",
    "mu = 500\n",
    "example_population = TreeGenotype.initialization(mu, **config['pac_init'])\n",
    "\n",
    "if len(example_population) != mu:\n",
    "    print('The population does not have the correct number of individuals.')\n",
    "if any(individual.genes is None for individual in example_population):\n",
    "    print('Some of the population had no genes assigned.')\n",
    "\n",
    "del config, mu, example_population"
   ]
  },
  {
   "cell_type": "markdown",
   "id": "c85aa3cf",
   "metadata": {},
   "source": [
    "### Serialization\n",
    "As discussed in Assignment Series 1, serialization and deserialization are very important in EC for a number of reasons. When working with GP trees we have another important motivator in that it is tremendously valuable to visualize your trees and the equations/programs they encode. We require you to implement the `TreeGenotype.serialize` method to return a string representing `self.genes` with the following format. We gave an example of this format for a tree earlier in the notebook.\n",
    "\n",
    "Nodes are listed starting from the root according to a depth-first pre-order traversal. Each node should be on its own line. The line should begin with a number of pipes (`|`) equal to the depth of the node, where the root has depth 0. The line then ends with the string representing the node. This could be written as:\n",
    "\n",
    "`<a number of '|'s equal to the current depth><node string><newline>`\n",
    "\n",
    "A `G` node at depth 3 would thus be printed as `|||G`.\n",
    "\n",
    "The string representation for each primitive type is the same one that is provided in the default `green_config.txt` `terminals` and `nonterminals` variables (e.g., `'G'`, `'P'`, `'+'`, `'-'`, `'RAND'`, etc.), except for constant nodes which should be converted to a string using `str(float(value))`.\n",
    "\n",
    "Refer back to the *GPac Parse Trees* section in this notebook, where we introduced the primitives, for an example of this format. That section also contains the expected names for the primitives, if you've changed the primitive representation in your config.\n",
    "\n",
    "Once implemented, execute the following cell and manually inspect some small trees for obvious errors."
   ]
  },
  {
   "cell_type": "code",
   "execution_count": 179,
   "id": "a18d5459",
   "metadata": {},
   "outputs": [
    {
     "name": "stdout",
     "output_type": "stream",
     "text": [
      "Individual 0's tree:\n",
      "*\n",
      "|+\n",
      "||/\n",
      "|||P\n",
      "|||-19.289572700897285\n",
      "||RAND\n",
      "|||F\n",
      "|||P\n",
      "|-\n",
      "||/\n",
      "|||G\n",
      "|||10.960111819762126\n",
      "||+\n",
      "|||F\n",
      "|||F\n",
      "\n",
      "Individual 1's tree:\n",
      "+\n",
      "|P\n",
      "|G\n",
      "\n",
      "Individual 2's tree:\n",
      "+\n",
      "|RAND\n",
      "||+\n",
      "|||-10.989722376069189\n",
      "|||F\n",
      "||-\n",
      "|||0.37669386478965095\n",
      "|||F\n",
      "|-\n",
      "||/\n",
      "|||W\n",
      "|||F\n",
      "||*\n",
      "|||F\n",
      "|||P\n",
      "\n",
      "Individual 3's tree:\n",
      "/\n",
      "|/\n",
      "||RAND\n",
      "|||W\n",
      "|||G\n",
      "||*\n",
      "|||F\n",
      "|||18.948540122079976\n",
      "|*\n",
      "||*\n",
      "|||-23.238496923345163\n",
      "|||F\n",
      "||-\n",
      "|||G\n",
      "|||F\n",
      "\n",
      "Individual 4's tree:\n",
      "+\n",
      "|/\n",
      "||/\n",
      "|||22.46369971549136\n",
      "|||P\n",
      "||RAND\n",
      "|||P\n",
      "|||F\n",
      "|/\n",
      "||/\n",
      "|||W\n",
      "|||P\n",
      "||-\n",
      "|||F\n",
      "|||W\n",
      "\n",
      "Individual 5's tree:\n",
      "RAND\n",
      "|P\n",
      "|F\n",
      "\n",
      "Individual 6's tree:\n",
      "+\n",
      "|/\n",
      "||P\n",
      "||F\n",
      "|-\n",
      "||-12.789533025490798\n",
      "||F\n",
      "\n",
      "Individual 7's tree:\n",
      "P\n",
      "\n",
      "Individual 8's tree:\n",
      "/\n",
      "|/\n",
      "||W\n",
      "||F\n",
      "|/\n",
      "||F\n",
      "||W\n",
      "\n",
      "Individual 9's tree:\n",
      "P\n",
      "\n"
     ]
    }
   ],
   "source": [
    "config = read_config('configs/2a/green_config.txt', globals(), locals())\n",
    "config['pac_init']['depth_limit'] = 3\n",
    "example_population = TreeGenotype.initialization(10, **config['pac_init'])\n",
    "\n",
    "for idx, individual in enumerate(example_population):\n",
    "    print(f\"Individual {idx}'s tree:\")\n",
    "    print(individual.serialize())\n",
    "\n",
    "del config, example_population"
   ]
  },
  {
   "cell_type": "markdown",
   "id": "0b07d46a",
   "metadata": {},
   "source": [
    "### Automated Tree Assessment\n",
    "Now that you've done some light manual testing, let's perform some automated testing at scale using a tool that examines trees from files. Execute the following cell to generate 100 trees that will be subjected to automated assessment. Note that this only checks for valid structure and printing, and doesn't necessarily guarantee that your tree generation or execution are entirely correct."
   ]
  },
  {
   "cell_type": "code",
   "execution_count": 180,
   "id": "ab6f4b20",
   "metadata": {},
   "outputs": [
    {
     "name": "stdout",
     "output_type": "stream",
     "text": [
      "tree_tests/tree0.txt: PASS\n",
      "tree_tests/tree1.txt: PASS\n",
      "tree_tests/tree10.txt: PASS\n",
      "tree_tests/tree11.txt: PASS\n",
      "tree_tests/tree12.txt: PASS\n",
      "tree_tests/tree13.txt: PASS\n",
      "tree_tests/tree14.txt: PASS\n",
      "tree_tests/tree15.txt: PASS\n",
      "tree_tests/tree16.txt: PASS\n",
      "tree_tests/tree17.txt: PASS\n",
      "tree_tests/tree18.txt: PASS\n",
      "tree_tests/tree19.txt: PASS\n",
      "tree_tests/tree2.txt: PASS\n",
      "tree_tests/tree20.txt: PASS\n",
      "tree_tests/tree21.txt: PASS\n",
      "tree_tests/tree22.txt: PASS\n",
      "tree_tests/tree23.txt: PASS\n",
      "tree_tests/tree24.txt: PASS\n",
      "tree_tests/tree25.txt: PASS\n",
      "tree_tests/tree26.txt: PASS\n",
      "tree_tests/tree27.txt: PASS\n",
      "tree_tests/tree28.txt: PASS\n",
      "tree_tests/tree29.txt: PASS\n",
      "tree_tests/tree3.txt: PASS\n",
      "tree_tests/tree30.txt: PASS\n",
      "tree_tests/tree31.txt: PASS\n",
      "tree_tests/tree32.txt: PASS\n",
      "tree_tests/tree33.txt: PASS\n",
      "tree_tests/tree34.txt: PASS\n",
      "tree_tests/tree35.txt: PASS\n",
      "tree_tests/tree36.txt: PASS\n",
      "tree_tests/tree37.txt: PASS\n",
      "tree_tests/tree38.txt: PASS\n",
      "tree_tests/tree39.txt: PASS\n",
      "tree_tests/tree4.txt: PASS\n",
      "tree_tests/tree40.txt: PASS\n",
      "tree_tests/tree41.txt: PASS\n",
      "tree_tests/tree42.txt: PASS\n",
      "tree_tests/tree43.txt: PASS\n",
      "tree_tests/tree44.txt: PASS\n",
      "tree_tests/tree45.txt: PASS\n",
      "tree_tests/tree46.txt: PASS\n",
      "tree_tests/tree47.txt: PASS\n",
      "tree_tests/tree48.txt: PASS\n",
      "tree_tests/tree49.txt: PASS\n",
      "tree_tests/tree5.txt: PASS\n",
      "tree_tests/tree50.txt: PASS\n",
      "tree_tests/tree51.txt: PASS\n",
      "tree_tests/tree52.txt: PASS\n",
      "tree_tests/tree53.txt: PASS\n",
      "tree_tests/tree54.txt: PASS\n",
      "tree_tests/tree55.txt: PASS\n",
      "tree_tests/tree56.txt: PASS\n",
      "tree_tests/tree57.txt: PASS\n",
      "tree_tests/tree58.txt: PASS\n",
      "tree_tests/tree59.txt: PASS\n",
      "tree_tests/tree6.txt: PASS\n",
      "tree_tests/tree60.txt: PASS\n",
      "tree_tests/tree61.txt: PASS\n",
      "tree_tests/tree62.txt: PASS\n",
      "tree_tests/tree63.txt: PASS\n",
      "tree_tests/tree64.txt: PASS\n",
      "tree_tests/tree65.txt: PASS\n",
      "tree_tests/tree66.txt: PASS\n",
      "tree_tests/tree67.txt: PASS\n",
      "tree_tests/tree68.txt: PASS\n",
      "tree_tests/tree69.txt: PASS\n",
      "tree_tests/tree7.txt: PASS\n",
      "tree_tests/tree70.txt: PASS\n",
      "tree_tests/tree71.txt: PASS\n",
      "tree_tests/tree72.txt: PASS\n",
      "tree_tests/tree73.txt: PASS\n",
      "tree_tests/tree74.txt: PASS\n",
      "tree_tests/tree75.txt: PASS\n",
      "tree_tests/tree76.txt: PASS\n",
      "tree_tests/tree77.txt: PASS\n",
      "tree_tests/tree78.txt: PASS\n",
      "tree_tests/tree79.txt: PASS\n",
      "tree_tests/tree8.txt: PASS\n",
      "tree_tests/tree80.txt: PASS\n",
      "tree_tests/tree81.txt: PASS\n",
      "tree_tests/tree82.txt: PASS\n",
      "tree_tests/tree83.txt: PASS\n",
      "tree_tests/tree84.txt: PASS\n",
      "tree_tests/tree85.txt: PASS\n",
      "tree_tests/tree86.txt: PASS\n",
      "tree_tests/tree87.txt: PASS\n",
      "tree_tests/tree88.txt: PASS\n",
      "tree_tests/tree89.txt: PASS\n",
      "tree_tests/tree9.txt: PASS\n",
      "tree_tests/tree90.txt: PASS\n",
      "tree_tests/tree91.txt: PASS\n",
      "tree_tests/tree92.txt: PASS\n",
      "tree_tests/tree93.txt: PASS\n",
      "tree_tests/tree94.txt: PASS\n",
      "tree_tests/tree95.txt: PASS\n",
      "tree_tests/tree96.txt: PASS\n",
      "tree_tests/tree97.txt: PASS\n",
      "tree_tests/tree98.txt: PASS\n",
      "tree_tests/tree99.txt: PASS\n"
     ]
    }
   ],
   "source": [
    "config = read_config('configs/2a/green_config.txt', globals(), locals())\n",
    "example_population = TreeGenotype.initialization(100, **config['pac_init'])\n",
    "\n",
    "os.makedirs('tree_tests/', exist_ok=True)\n",
    "for idx, individual in enumerate(example_population):\n",
    "    with open(f'tree_tests/tree{idx}.txt','w') as f:\n",
    "        f.write(individual.serialize())\n",
    "\n",
    "!python tree_check.py tree_tests/tree*.txt\n",
    "\n",
    "del config, example_population"
   ]
  },
  {
   "cell_type": "markdown",
   "id": "b6eab5b0-5cf4-44d3-ae38-74d82d2bfc2b",
   "metadata": {},
   "source": [
    "### Deserialization\n",
    "With your serialization working correctly (hopefully), you can begin working on deserialization in the `TreeGenotype.deserialize` method. We have provided a lot of the logic of this method for you, parsing the string in order to determine where nodes belong in the deserialized tree, and your only job is to create the individual nodes and piece them together into your chosen data structure.\n",
    "\n",
    "After finishing that implementation, run the following cell to check that your code is correctly recreating parse trees."
   ]
  },
  {
   "cell_type": "code",
   "execution_count": 181,
   "id": "9b72743a-570c-4775-a9a5-87f4c29c54c3",
   "metadata": {},
   "outputs": [
    {
     "name": "stdout",
     "output_type": "stream",
     "text": [
      "Tree 0 was deserialized correctly!\n",
      "Tree 1 was deserialized correctly!\n",
      "Tree 2 was deserialized correctly!\n",
      "Tree 3 was deserialized correctly!\n",
      "Tree 4 was deserialized correctly!\n"
     ]
    }
   ],
   "source": [
    "config = read_config('configs/2a/green_config.txt', globals(), locals())\n",
    "config['pac_init']['depth_limit'] = 3\n",
    "example_population = TreeGenotype.initialization(5, **config['pac_init'])\n",
    "\n",
    "for idx, individual in enumerate(example_population):\n",
    "    # Serialize a random tree\n",
    "    serialization = individual.serialize()\n",
    "\n",
    "    # Deserialize to reconstruct the tree as a new TreeGenotype\n",
    "    deserialized = TreeGenotype()\n",
    "    deserialized.deserialize(serialization)\n",
    "    reserialization = deserialized.serialize()\n",
    "\n",
    "    if serialization == reserialization:\n",
    "        print(f'Tree {idx} was deserialized correctly!')\n",
    "    else:\n",
    "        print(f'Tree {idx} was NOT deserialized correctly!')\n",
    "        print(f'Initial tree:\\n{serialization}')\n",
    "        print(f'Deserialized tree:\\n{reserialization}')\n",
    "\n",
    "del config, example_population"
   ]
  },
  {
   "cell_type": "markdown",
   "id": "41356d95",
   "metadata": {},
   "source": [
    "## Fitness Evaluation\n",
    "In this assignment, we're leaving part of the fitness function for you to implement as you need to interface your custom tree genotype implementation. In Assignment 2c, we'll be performing competitive co-evolution with multiple controllers. For assignments 2a and 2b though, your Pac-Man agents will play against ghost agents that select random moves.\n",
    "\n",
    "### State Dictionaries\n",
    "The interface between your parse tree and the game is through a list of state dictionaries. This list represents the space of valid $s'$ states resulting from Pac-Man's possible actions. Each $s'$ state is represented by one of the state dictionaries. The state dictionaries contain all the information about the game necessary for your parse tree's sensor inputs. Execute the following cell to see an example of what a state dictionary looks like."
   ]
  },
  {
   "cell_type": "code",
   "execution_count": 182,
   "id": "b08baddf",
   "metadata": {},
   "outputs": [
    {
     "name": "stdout",
     "output_type": "stream",
     "text": [
      "pills: frozenset({(12, 16), (23, 13), (30, 6), (3, 13), (17, 6), (8, 15), (24, 11), (25, 4), (2, 8), (32, 15), (15, 11), (29, 4), (29, 13), (23, 9), (22, 7), (34, 3), (5, 6), (28, 11), (3, 15), (9, 4), (5, 15), (25, 9), (1, 11), (15, 4), (11, 19), (15, 7), (25, 15), (31, 6), (7, 15), (34, 5), (34, 8), (14, 11), (4, 13), (33, 0), (8, 13), (19, 13), (10, 19), (26, 9), (13, 15), (18, 14)})\n",
      "fruit: None\n",
      "players: {'m': (0, 19), '0': (34, 0), '1': (0, 0), '2': (34, 19)}\n",
      "walls:\n",
      "~~~~~~~~~~~~~~~~~#~~~~~~~~~~~~~~~~~\n",
      "~######~########~#~########~######~\n",
      "~#~~~~~~~~~~~~~~~~~~~~~~~~~~~~~~~#~\n",
      "~#~#########~###~#~###~#########~#~\n",
      "~~~~~~~~~~~~~~~~~#~~~~~~~~~~~~~~~~~\n",
      "~#~#####~#######~~~#######~#####~#~\n",
      "~#~~~~~~~~~~~~~~~#~~~~~~~~~~~~~~~#~\n",
      "~#~########~#~#######~#~########~#~\n",
      "~~~~~~~~~~~~#~~~~~~~~~#~~~~~~~~~~~~\n",
      "###~##~####~#~###~###~#~####~##~###\n",
      "###~##~~~~~~#~~~~~~~~~#~~~~~~##~###\n",
      "~~~~~~~####~#~#######~#~####~~~~~~~\n",
      "~##~#####~~~~~~~~~~~~~~~~~#####~##~\n",
      "~##~~~~~~~#######~#######~~~~~~~##~\n",
      "~####~###~~~~~###~###~~~~~###~####~\n",
      "~####~###~###~~~~~~~~~###~###~####~\n",
      "~~~~~~~~~~###~#######~###~~~~~~~~~~\n",
      "~######~#~~~~~~~~#~~~~~~~~#~######~\n",
      "~######~########~#~########~######~\n",
      "~~~~~~~~~~~~~~~~~#~~~~~~~~~~~~~~~~~\n"
     ]
    }
   ],
   "source": [
    "from gpac import GPacGame\n",
    "from fitness import parse_map\n",
    "\n",
    "config = read_config('configs/2a/green_config.txt', globals(), locals())\n",
    "\n",
    "# Ignore these next 2 lines; this is not code you will ever be using in practice.\n",
    "game_map = parse_map(config['game']['game_map'])\n",
    "game = GPacGame(game_map)\n",
    "\n",
    "# The following lines are the focus of this demo.\n",
    "actions = game.get_actions()\n",
    "s_primes = game.get_observations(actions)\n",
    "for k, v in s_primes[0].items():\n",
    "    if not isinstance(v, tuple):\n",
    "        print(\"{}: {}\".format(k, v))\n",
    "\n",
    "walls = s_primes[0]['walls']\n",
    "print('walls:')\n",
    "for y in range(1, len(walls[0]) + 1):\n",
    "    for x in range(len(walls)):\n",
    "        if walls[x][-y]:\n",
    "            print('#', end='')\n",
    "        else:\n",
    "            print('~', end='')\n",
    "    print()\n",
    "\n",
    "del game_map, game, actions, s_primes, walls"
   ]
  },
  {
   "cell_type": "markdown",
   "id": "54f55f8b",
   "metadata": {},
   "source": [
    "**Notes**:\n",
    "* The above cell prints the walls using `#` and `~`, to make the map easier to read. In the code, however, walls are represented with `True` or `False`, with `walls[x][y]` being `True` if there is a wall in cell `(x, y)`, or `False` if there is not.\n",
    "* `fruit` will be an `(x, y)` tuple if there is a fruit on the map, or `None` if there is not a fruit.\n",
    "* To determine if a player is Pac-Man (rather than a ghost), you should use `'m' in player`. There will be bonuses in future assignments that involve having multiple Pac-Man agents; in that case, their names will be `'m0'`, `'m1'`, `'m2'`, etc.\n",
    "\n",
    "### Tree Execution\n",
    "Regardless of how you've implemented your trees so far, they must accept as input a state dictionary and return as output a floating-point number representing the tree's score for that state. Using this score, you will select the index of the action with the best score as determined by the greedy policy mentioned earlier in this notebook.\n",
    "\n",
    "In whatever order you like, implement your tree execution functionality and the portion of `play_GPac` in `fitness.py` where you use your genotype to score states and select an action. The `play_GPac` function expects as input a `pac_controller` object in addition to other parameters in your config file. The object you pass in for the controller could either be a `TreeGenotype` object with an initialized `genes` member variable, or the genotype's `genes` member object itself.\n",
    "\n",
    "The implementation of tree execution and the fitness function is relatively open-ended and thus you may test the execution of your parse trees however you see fit. If you're feeling lost though, feel free to reference the Pac-Man GP Tree Implementation presentation given in class for some pseudocode and guidance. The easiest way to test your tree execution is most likely to implement a single-node tree for each of your terminal primitives and then perform a fitness evaluation using those before moving on to deeper trees.\n",
    "\n",
    "We softly recommend that you cache the values from your terminal primitives during the evaluation of a given state. That is, a tree might have ten different `P` nodes in it, but these will all have the same value for the same state; running the full calculation ten separate times for every state is unnecessary. Caching this value in an intelligent and efficient way can dramatically reduce runtimes, but you have to carefully consider how you approach this to ensure it isn't causing incorrect behavior.\n",
    "\n",
    "**Note**: In addition to the execution method shown in class, GP can also be implemented by assigning the chosen function to a member variable of the nodes, as Python allows you to use functions just like any other variable. This might be an advanced technique, but feel free to look closer at how the survival selection function was called in the Assignment Series 1 EA object class for an example of what this could look like.\n",
    "\n",
    "Using the following cell, assign to `pac_controller` an object appropriate for your `play_GPac` implementation to play a full game. You are welcome to add additional tests to the following cell as well."
   ]
  },
  {
   "cell_type": "code",
   "execution_count": 183,
   "id": "c0e86b0b",
   "metadata": {},
   "outputs": [
    {
     "name": "stdout",
     "output_type": "stream",
     "text": [
      "Pac-Man's score was 21.122923588039868, and the game log was written to test_game.txt\n"
     ]
    }
   ],
   "source": [
    "config = read_config('configs/2a/green_config.txt', globals(), locals())\n",
    "\n",
    "# Assign your controller to this variable.\n",
    "pac_controller = TreeGenotype.initialization(1, **config['pac_init'])[0]\n",
    "\n",
    "# You should use a similar function call in your search algorithm code.\n",
    "score, log = play_GPac(pac_controller, **config['game'])\n",
    "\n",
    "# Logging the game for use with the visualizer.\n",
    "game_log_path = 'test_game.txt'\n",
    "with open(game_log_path, 'w') as f:\n",
    "    [f.write(f'{line}\\n') for line in log]\n",
    "\n",
    "# Print for tutorialization.\n",
    "print(f\"Pac-Man's score was {score}, and the game log was written to {game_log_path}\")\n",
    "\n",
    "del config, pac_controller, score, log, game_log_path"
   ]
  },
  {
   "cell_type": "markdown",
   "id": "65d84142",
   "metadata": {},
   "source": [
    "## Random Search Algorithm\n",
    "By this point, your implementation of tree initialization, tree printing, tree execution, and the fitness function should be complete. In the following cell, implement a function to conduct a single run of random GP search by evaluating a population of `num_evaluations` solutions.\n",
    "\n",
    "Beyond just implementing random search, there are five data collection tasks for this function:\n",
    "\n",
    "1. Call `hist.add(score)` once per evaluation\n",
    "2. Return the highest-scoring `TreeGenotype` as `best_solution`\n",
    "3. Return the score this best solution received as `best_score`\n",
    "4. Return the log from the game that produced this best score as `best_log`\n",
    "5. Return appropriate data for generating an evals-vs-best-score stairstep plot as `stairstep_data`\n",
    "    * This is identical to the requirement from Assignment 1a\n",
    "\n",
    "\n",
    "**Note**: The game logs can consume a very large amount of memory, especially if you plan on multiprocessing your experiment. We recommend you write your random search in such a way that only the current-best game log is stored in memory at any given time. If you attempt to run `num_evaluations` games before determining which game's log you need to keep, you may run out of RAM. This is especially relevant if you want to fully leverage multiprocessing during the multi-run experiment portion of this assignment."
   ]
  },
  {
   "cell_type": "code",
   "execution_count": 184,
   "id": "63998d50",
   "metadata": {},
   "outputs": [],
   "source": [
    "from math import inf\n",
    "\n",
    "def random_search_run(num_evaluations, config):\n",
    "    # Initialize a RoundedFitnessHistogramMaker\n",
    "    hist = RoundedFitnessHistogramMaker()\n",
    "\n",
    "    # Assign your best score to this variable\n",
    "    # Starting at -inf is a good way to keep track of the best score\n",
    "    best_score = -inf\n",
    "\n",
    "    # Assign your best TreeGenotype to this variable\n",
    "    best_solution = None\n",
    "\n",
    "    # Assign the log from the highest-scoring game to this variable\n",
    "    best_log = None\n",
    "\n",
    "    # Assign your stairstep data to this variable\n",
    "    # It's up to you to figure out what that data should be!\n",
    "    stairstep_data = []\n",
    "\n",
    "    # TODO: Conduct your random search here\n",
    "\n",
    "    # We iterate num_evalutations times for our random search\n",
    "    for _ in range(num_evaluations):\n",
    "\n",
    "        # We initialize our solution\n",
    "        pac_controller = TreeGenotype.initialization(1, **config['pac_init'])[0]\n",
    "\n",
    "        # Find the score and log of the controller\n",
    "        score, log = play_GPac(pac_controller, **config['game'])\n",
    "\n",
    "        # We save the fitness of our solution into our solution object\n",
    "        pac_controller.fitness = score\n",
    "\n",
    "        # We change the best_score, best_solution, and best_log if the fitness of our current controller is greater than the current best_score\n",
    "        if pac_controller.fitness > best_score:\n",
    "            best_score = pac_controller.fitness\n",
    "            best_solution = pac_controller\n",
    "            best_log = log\n",
    "\n",
    "        # Add the fitness of the contoller to the HistogramMaker\n",
    "        hist.add(pac_controller.fitness)\n",
    "\n",
    "        # We append the max fitness after this evaluation into the stairstep_data array\n",
    "        stairstep_data.append(best_score)\n",
    "    \n",
    "    return best_solution, best_score, best_log, stairstep_data, hist"
   ]
  },
  {
   "cell_type": "markdown",
   "id": "902d938b-bd13-4364-b5ab-d0a781eb67d1",
   "metadata": {},
   "source": [
    "Now run the next cell to test your function. This may take a minute or two to run. **If you ever change the function in the previous cell, make sure to execute that cell again so the changes get loaded by the interpreter!** Otherwise, the changes won't take effect in other cells."
   ]
  },
  {
   "cell_type": "code",
   "execution_count": 185,
   "id": "ffb6d5a8-4e5d-4435-8faa-dee607cca1dc",
   "metadata": {},
   "outputs": [
    {
     "name": "stdout",
     "output_type": "stream",
     "text": [
      "Best solution looks like:\n",
      "RAND\n",
      "|G\n",
      "|0.9971682953508463\n",
      "\n",
      "Best score: 50.310077519379846\n",
      "Histogram:\n"
     ]
    },
    {
     "data": {
      "application/vnd.jupyter.widget-view+json": {
       "model_id": "353eec9dde974b9f8b0cc1e688e48df8",
       "version_major": 2,
       "version_minor": 0
      },
      "image/png": "[encoded data removed]",
      "text/html": [
       "\n",
       "            <div style=\"display: inline-block;\">\n",
       "                <div class=\"jupyter-widgets widget-label\" style=\"text-align: center;\">\n",
       "                    Figure\n",
       "                </div>\n",
       "                <img src='data:image/png;base64,iVBORw0KGgoAAAANSUhEUgAAA+gAAAEsCAYAAABQRZlvAAAAOXRFWHRTb2Z0d2FyZQBNYXRwbG90bGliIHZlcnNpb24zLjguNCwgaHR0cHM6Ly9tYXRwbG90bGliLm9yZy8fJSN1AAAACXBIWXMAAA9hAAAPYQGoP6dpAABAcUlEQVR4nO3deXxM9/7H8fdEkklsCaEIIcRWjYh9F5pQS2iLW7f2pddW7U9bt0VbpFelrW73ttVqFVUUVUu1pa1dSwmu1HLVTlSRqyTWyPL9/eGRuUYyBJlkTF7Px+M8Hs73fOd7Pp8554z55CxjMcYYAQAAAACAfOWR3wEAAAAAAAAKdAAAAAAAXAIFOgAAAAAALoACHQAkzZw5UxaLxeG0du3a/A4xVwQHB6t///65Nl7//v3t3idvb2+FhIRo1KhRSk5OzrX13K7WrVurdevW+bb+7Hz//fdq166dAgMDZbVaFRgYqNatW+u1117L79BuKjg4WNHR0Xm6zszj8ciRI7a2uXPn6t13383S98iRI7JYLHrzzTfveH0vvfSSoqOjVb58eVkslpseI4cOHVLXrl3l7++vokWLqm3bttq+fXu2fefNm6fw8HD5+PgoMDBQI0eO1IULF24ZT2ZOjqYJEybcYaa3NmHCBFksFqeNL0mXLl3ShAkTsv1czW7bA0BB4pnfAQCAK5kxY4Zq1qyZpb1WrVr5EM29wdfXV6tXr5YknTt3TgsXLtRbb72lX3/9VT/88EM+R+caPvroIw0bNkzdunXT+++/r5IlSyohIUEbN27UwoULNXr06PwO0aV06tRJmzZtUrly5Wxtc+fO1a5duzRy5MhcX98777yjsLAwdenSRdOnT3fYLzExUS1btlSJEiU0ffp0+fj4KDY2Vq1bt1ZcXJxq1Khh6ztnzhz17t1bTzzxhN555x3t27dPL7zwgvbs2ZPj4+Kpp55Sz549s7RXqFDh9pN0IZcuXVJMTIwkZflDWnbbHgAKEgp0ALhOaGioGjRokN9h3FM8PDzUpEkT23z79u116NAh/fjjjzp8+LAqV66cj9G5htjYWLVq1UoLFy60a+/Tp48yMjLyPJ5Lly6pcOHCeb7enCpdurRKly6dZ+s7f/68PDyuXVT4+eefO+w3efJkJSYmauPGjapUqZIkqUWLFgoJCdG4ceM0f/58SVJ6err+/ve/q127dvrkk08kSW3atFGxYsXUq1cvLV++XB06dLhlXBUrVrQ7tgqCvN72AOBquMQdAG7DvHnzZLFY9P7779u1jx8/XoUKFdKPP/5oa4uJiVHjxo1VsmRJFS9eXPXq1dOnn36qG3/dMvMS4m+++UZ169aVr6+v7r//fn3zzTeSrl3yef/996tIkSJq1KiRtm7davf6/v37q2jRotq9e7ciIyNVpEgRlS5dWiNGjNClS5dumVNycrJGjRqlypUry9vbW+XLl9fIkSN18eLFO32bbH/kOHXqlK3twIEDGjBggKpVq6bChQurfPny6ty5s3bu3Gn32rVr18piseiLL77Qiy++qMDAQBUvXlxRUVH67bff7PoaY/TGG2+oUqVK8vHxUb169bR8+fJsYzp27Jh69+6t++67T1arVffff7/eeustuwI589LiyZMn6/XXX1dwcLB8fX3VunVr7du3T6mpqRo9erQCAwPl5+enRx99VKdPn77l+3HmzBmHZwQzC8Prc5oyZYrCw8Pl6+urEiVKqHv37jp06JBdvx9//FEPP/ywKlSoIB8fH1WtWlVDhgzRf//7X7t+mZcsb9++Xd27d1eJEiUUEhIiScrIyNB7771nW5e/v7+aNGmir7/+OkucK1asUL169eTr66uaNWve9ExzpoYNG6pTp052bbVr15bFYlFcXJytbdGiRbJYLLZ94cbLnFu3bq1vv/1WR48etbvU+0Zvv/22KleurKJFi6pp06b65ZdfbhmjlHUbOLJ48WI9+OCDtuJckooXL66uXbtq2bJlSktLkyT98ssv+uOPPzRgwAC71//lL39R0aJFtXjx4hyt71ZGjhypIkWKZHs7SY8ePVSmTBmlpqZKkubPn6927dqpXLlyts+Y0aNH5+g4d3RZ/Y23zCQmJmr48OGqVauWihYtqvvuu08PPvigNmzYYOtz5MgRWwEeExNj25aZ4zi6xH369OmqU6eOfHx8VLJkST366KP6z3/+Y9cn87PwwIED6tixo4oWLaqgoCA999xzSklJsev74Ycfqk6dOipatKiKFSummjVrauzYsbd8LwDA2SjQAeA66enpSktLs5vS09Nty//6179q6NCheu6552yF8urVqzVx4kSNHTtWbdu2tfU9cuSIhgwZogULFmjRokXq2rWrnnrqKf3jH//Ist74+HiNGTNGL7zwghYtWiQ/Pz917dpV48eP17Rp0zRp0iTNmTNHSUlJio6O1uXLl+1en5qaqo4dOyoyMlJLlizRiBEjNHXqVPXo0eOm+V66dEkRERH67LPP9PTTT2v58uV64YUXNHPmTHXp0iXLHxNy6vDhw/L09FSVKlVsbSdOnFBAQIBee+01rVixQh988IE8PT3VuHHjLIW3JI0dO1ZHjx7VtGnT9PHHH2v//v3q3Lmz3faIiYnRCy+8oLZt22rJkiUaNmyY/va3v2UZLzExUc2aNdMPP/ygf/zjH/r6668VFRWlUaNGacSIEVnW/cEHH+jnn3/WBx98oGnTpmnv3r3q3LmzBg0apMTERE2fPl1vvPGGVq5cqSeeeOKW70fTpk311VdfacKECYqPj7fL4UZDhgzRyJEjFRUVpSVLlmjKlCnavXu3mjVrZvcHj4MHD6pp06b68MMP9cMPP2jcuHHavHmzWrRoYSvKrte1a1dVrVpVX375pT766CNJ1wqa//u//1PDhg01f/58zZs3T126dMlSHMXHx+u5557TM888o6VLlyosLEyDBg3S+vXrb5p3VFSU1q9fb4vn1KlT2rVrl3x9fe3+mLVy5UqVKVNGtWvXznacKVOmqHnz5ipbtqw2bdpkm673wQcf6Mcff9S7776rOXPm6OLFi+rYsaOSkpJuGmNOXb58WQcPHlRYWFiWZWFhYbp8+bLtjyi7du2ytV/Py8tLNWvWtC2/lYyMjCyfR5l/BJCkgQMH6tKlS1qwYIHd686dO6elS5eqd+/e8vLykiTt379fHTt21KeffqoVK1Zo5MiRWrBggTp37pzzN+EW/vzzT0nX/mD57bffasaMGapSpYpat25tu9+8XLlyWrFihSRp0KBBtm358ssvOxw3NjZWgwYN0gMPPKBFixbpn//8p3799Vc1bdpU+/fvt+ubmpqqLl26KDIyUkuXLtXAgQP1zjvv6PXXX7f1mTdvnoYPH66IiAgtXrxYS5Ys0TPPPHNXf5QEgFxjAABmxowZRlK2U6FChez6XrlyxdStW9dUrlzZ7Nmzx5QpU8ZERESYtLQ0h+Onp6eb1NRU88orr5iAgACTkZFhW1apUiXj6+trjh8/bmvbsWOHkWTKlStnLl68aGtfsmSJkWS+/vprW1u/fv2MJPPPf/7Tbp2vvvqqkWR++uknu3X169fPNh8bG2s8PDxMXFyc3WsXLlxoJJnvvvvupu9bv379TJEiRUxqaqpJTU01//3vf82HH35oPDw8zNixY2/62rS0NHP16lVTrVo188wzz9ja16xZYySZjh072vVfsGCBkWQ2bdpkjDHm7NmzxsfHxzz66KN2/X7++WcjyURERNjaRo8ebSSZzZs32/UdNmyYsVgs5rfffjPGGHP48GEjydSpU8ekp6fb+r377rtGkunSpYvd60eOHGkkmaSkpJvmeuDAARMaGmrbp3x9fU1kZKR5//33zdWrV239Nm3aZCSZt956y+71CQkJxtfX1zz//PPZjp+RkWFSU1PN0aNHjSSzdOlS27Lx48cbSWbcuHF2r1m/fr2RZF588cWbxl6pUiXj4+Njjh49amu7fPmyKVmypBkyZMhNX7ty5Uojyaxfv94YY8zs2bNNsWLFzPDhw02bNm1s/apVq2Z69uxpm888Hg8fPmxr69Spk6lUqVKWdWRus9q1a9sdg1u2bDGSzBdffHHTGG9UpEgRu2Mk0++//24kmdjY2CzL5s6daySZjRs3GmP+d+z98ccfWfq2a9fOVK9e/aYxZObkaNqwYYOtb7169UyzZs3sXj9lyhQjyezcuTPb8TP3l3Xr1hlJJj4+3rYsc3+5niQzfvz4LOPc+Hlyo7S0NJOammoiIyPtjtPExESHY9647c+ePWt8fX2zfB4cO3bMWK1Wu/0m87NwwYIFdn07duxoatSoYZsfMWKE8ff3dxg3AOQnzqADwHVmzZqluLg4u2nz5s12faxWqxYsWKAzZ86oXr16Msboiy++UKFChez6rV69WlFRUfLz81OhQoXk5eWlcePG6cyZM1kuiw4PD1f58uVt8/fff7+ka5f2Xn+vcGb70aNHs8Teq1cvu/nMh0utWbPGYb7ffPONQkNDFR4ebneG7qGHHsrx0+svXrwoLy8veXl5qVSpUho2bJh69OihV1991a5fWlqaJk2apFq1asnb21uenp7y9vbW/v37s1yqKkldunSxm888G5mZ+6ZNm3TlypUseTdr1szuEmTp2raoVauWGjVqZNfev39/GWNsD7nL1LFjR7vLnjPf9xsv185sP3bsWDbvzP+EhIQoPj5e69atU0xMjKKiohQXF6cRI0aoadOmunLliqRr28Nisah3795226Ns2bKqU6eO3fY4ffq0hg4dqqCgIHl6esrLy8uWd3bvZ7du3ezmM28FePLJJ28au3Rt/6xYsaJt3sfHR9WrV892P7xe8+bN5ePjo5UrV0q6dll+69at1b59e23cuFGXLl1SQkKC9u/fr6ioqFvGcTOdOnWyOwZv3F9yy82ecH7jMkd9c/qU9P/7v//L8nkUFxen8PBwW58BAwZo48aNdleNzJgxQw0bNlRoaKit7dChQ+rZs6fKli1r+zyKiIiQlP3+cqc++ugj1atXTz4+Prb9ctWqVXe8jk2bNuny5ctZnqwfFBSkBx98UKtWrbJrt1gsWa4KCAsLs9sPGjVqpHPnzunxxx/X0qVLs9wWAgD5iQIdAK5z//33q0GDBnZT/fr1s/SrWrWqWrZsaSsQb7y/eMuWLWrXrp0k6ZNPPtHPP/+suLg4vfjii5KU5RL1kiVL2s17e3vftD2zoMvk6empgIAAu7ayZctKunb/syOnTp3Sr7/+aiuwM6dixYrJGJOjL66+vr62wmHZsmVq3bq1vvjiiyw/H/bss8/q5Zdf1iOPPKJly5Zp8+bNiouLU506dbK8H5Ky5GO1WiX9773LzCszz+xyz+ToHvDAwEC7sTLd7fbIjoeHh1q1aqVx48bp66+/1okTJ9SjRw9t27bNdj/3qVOnZIxRmTJlsmyTX375xbY9MjIy1K5dOy1atEjPP/+8Vq1apS1bttjuuc7u/bwx/8TERBUqVCjb9+9GN24L6dr2yG491/Px8VHz5s1tBfqqVavUtm1btW7dWunp6dqwYYPtUve7LdBvtb/crRIlSshisWR7PGVe2p25f2TG4qjvjfuRIxUqVMjyedSgQQMVLVrU1qdXr16yWq2aOXOmJGnPnj2Ki4uzu//9woULatmypTZv3qyJEydq7dq1iouL06JFiyTl3nv09ttva9iwYWrcuLG++uor/fLLL4qLi1P79u3veB2Z76Gj4/fG97hw4cLy8fGxa7NarXbHaJ8+fTR9+nQdPXpU3bp103333afGjRvb3XYBAPmFp7gDwB2YNm2avv32WzVq1Ejvv/++evToocaNG9uWz5s3T15eXvrmm2/sviwuWbLEKfGkpaXpzJkzdkXKyZMnJWVfXGUqVaqUfH19HT7wq1SpUrdct4eHh92T79u2bav69esrJiZGvXr1UlBQkCRp9uzZ6tu3ryZNmmT3+v/+97/y9/e/5XpulJlXZp7XO3nypIKDg+36/vHHH1n6nThxQlLO8sxtRYoU0ZgxYzR//nzbPcmlSpWSxWLRhg0bbAXm9TLbdu3apfj4eM2cOVP9+vWzLT9w4IDD9d141rZ06dJKT0/XyZMnnfqTVpGRkRo3bpy2bNmi48ePq23btipWrJgaNmyoH3/8USdOnFD16tVt+4mr8vX1VdWqVbM81FCSdu7cKV9fX9szFzLvpd+5c6fdTzSmpaVp7969evzxx3MtrhIlSujhhx/WrFmzNHHiRM2YMUM+Pj5261i9erVOnDihtWvX2s6aS9fuVc8Jq9Wa5SFrUtY/QMyePVutW7fWhx9+aNd+/vz528jIXuZx7uj4vdNjd8CAARowYIAuXryo9evXa/z48YqOjta+ffuyXIEDAHmJM+gAcJt27typp59+Wn379tWGDRsUFhamHj166OzZs7Y+FotFnp6edpfcXr58+aY/4XS35syZYzc/d+5cSVl/Z/h60dHROnjwoAICArI9U3d9kZtTVqtVH3zwga5cuaKJEyfa2i0WS5ai89tvv9Xvv/9+2+uQpCZNmsjHxydL3hs3bsxyWXNkZKT27Nmj7du327XPmjVLFotFbdq0uaMYciq74kL636XFmWfyo6OjZYzR77//nu32yCz8MovtG9/PqVOn5jimzJ/5urGYym1RUVFKS0vTyy+/rAoVKqhmzZq29pUrV9puBbmVnJyxd7ZHH31Uq1evVkJCgq3t/PnzWrRokbp06SJPz2vnPRo3bqxy5crZzmpnWrhwoS5cuKCuXbvmalwDBgzQiRMn9N1332n27Nl69NFH7f7odbf7S3BwsH799Ve7ttWrV+vChQt2bdkd47/++muWB/rdztUNTZs2la+vr2bPnm3Xfvz4ca1evVqRkZE5ysGRIkWKqEOHDnrxxRd19epV7d69+67GA4C7xRl0ALjOrl277J6SnCkkJESlS5fWxYsX9dhjj6ly5cqaMmWKvL29tWDBAtWrV08DBgywnSHv1KmT3n77bfXs2VODBw/WmTNn9Oabb2Z7VjQ3eHt766233tKFCxfUsGFDbdy4URMnTlSHDh3UokULh68bOXKkvvrqK7Vq1UrPPPOMwsLClJGRoWPHjumHH37Qc889Z3dlQE5FRESoY8eOmjFjhkaPHq3KlSsrOjpaM2fOVM2aNRUWFqZt27Zp8uTJqlChwh3lXKJECY0aNUoTJ07UE088ob/85S9KSEjQhAkTsly2/cwzz2jWrFnq1KmTXnnlFVWqVEnffvutpkyZomHDhql69ep3FENOPfDAA4qMjFSHDh0UEhKiK1euaPPmzXrrrbdUpkwZDRo0SNK1e7YHDx6sAQMGaOvWrWrVqpWKFCmiP/74Qz/99JNq166tYcOGqWbNmgoJCdHo0aNljFHJkiW1bNmy27pEt2XLlurTp48mTpyoU6dOKTo6WlarVf/+979VuHBhPfXUU7mSe/369VWiRAn98MMPdpddR0VF2X7RICcFeu3atbVo0SJ9+OGHql+/fpYrN+7GunXrlJiYKOnaLzkcPXrU9pv1ERERtp8FGzVqlD7//HPbfmS1WvXaa6/pypUrdj9DVqhQIb3xxhvq06ePhgwZoscff1z79+/X888/r7Zt26p9+/Y5iuvYsWPZ/lRc6dKlbT+VJ0nt2rVThQoVNHz4cJ08eTLLz7s1a9ZMJUqU0NChQzV+/Hh5eXlpzpw5io+Pz1Ecffr00csvv6xx48YpIiJCe/bs0fvvvy8/Pz+7ftHR0frHP/6h8ePHKyIiQr/99pteeeUVVa5c2e5ztVixYqpUqZKWLl2qyMhIlSxZUqVKlcr2D4L+/v56+eWXNXbsWPXt21ePP/64zpw5o5iYGPn4+Gj8+PE5yuF6f/vb3+Tr66vmzZurXLlyOnnypGJjY+Xn56eGDRve9ngAkKvy8wl1AOAqbvYUd0nmk08+McYY07t3b1O4cGGze/duu9d/+eWXRpJ55513bG3Tp083NWrUMFar1VSpUsXExsaaTz/9NMvTqStVqmQ6deqUJSZJ5sknn7Rry3y68+TJk21tmU9S//XXX03r1q2Nr6+vKVmypBk2bJi5cOGC3euze+ryhQsXzEsvvWRq1KhhvL29jZ+fn6ldu7Z55plnzMmTJ2/6vmWuOzs7d+40Hh4eZsCAAcaYa09jHjRokLnvvvtM4cKFTYsWLcyGDRtMRESE3RPXM5/i/uWXX2ab+4wZM2xtGRkZJjY21gQFBRlvb28TFhZmli1blmVMY4w5evSo6dmzpwkICDBeXl6mRo0aZvLkyXZPa8/u/b1ZTJn7zY1Pwb/R1KlTTdeuXU2VKlVM4cKFjbe3twkJCTFDhw41CQkJWfpPnz7dNG7c2BQpUsT4+vqakJAQ07dvX7N161Zbnz179pi2bduaYsWKmRIlSpi//OUv5tixY1mejp35VO7ExMQs60lPTzfvvPOOCQ0NtW37pk2bmmXLltn6ONo/s3uPHXn00UeNJDNnzhxb29WrV02RIkWMh4eHOXv2rF3/7J7i/ueff5ru3bsbf39/Y7FYbE8ad7TNjHH89PHscnF07K9Zs8au74EDB8wjjzxiihcvbgoXLmwiIyPNtm3bsh137ty5JiwszHh7e5uyZcuap59+2pw/f/6W8dzqKe69evXK8pqxY8caSSYoKMhun860ceNG07RpU1O4cGFTunRp88QTT5jt27dnOaaye4p7SkqKef75501QUJDx9fU1ERERZseOHVk+T1JSUsyoUaNM+fLljY+Pj6lXr55ZsmSJ6devX5Yn8K9cudLUrVvXWK1WI8k2Tnbb3hhjpk2bZnsv/fz8zMMPP5zlc9jR59GNOX322WemTZs2pkyZMsbb29sEBgaaxx57zPz6669ZXgsAec1izB3+yC0AwCX079/fduksAAAA7l3cgw4AAAAAgAugQAcAAAAAwAVwiTsAAAAAAC6AM+gAAAAAALgACnQAAAAAAFwABToAAAAAAC6AAh0AAAAAABfgmd8B3CgjI0MnTpxQsWLFZLFY8jscAAAAAABynTFG58+fV2BgoDw8rp07d7kC/cSJEwoKCsrvMAAAAAAAcLqEhARVqFBBkgsW6MWKFZN0LcjixYvnczQAAAAAAOS+5ORkBQUF2WpgyQUL9MzL2osXL06BDgAAAABwa9ff2s1D4gAAAAAAcAEU6AAAAAAAuAAKdAAAAAAAXAAFOgAAAAAALsApBfr333+v+vXrq27dugoNDdVnn33mjNUAAAAAAOA2LMYYk5sDGmNUqlQprVmzRmFhYTpy5Ihq1qypxMREu8fHO5KcnCw/Pz8lJSXxFHcAAAAAgFvKrvZ12iXu586ds600ICBAVqvVWasCAAAAAOCel+u/g26xWLRgwQJ17dpVRYoU0dmzZ7Vo0SJ5e3tn2z8lJUUpKSm2+eTk5NwOCQAAAAAAl5frBXpaWppiY2O1dOlSNW/eXHFxcXrkkUe0c+dOlSxZMkv/2NhYxcTE5HYYAAAAuJUJftm0JeV9HAAASU64xH3Hjh06ceKEmjdvLklq2LChAgMDFR8fn23/MWPGKCkpyTYlJCTkdkgAAAAAALi8XD+DHhQUpOPHj+u3335TjRo1dODAAR08eFDVq1fPtr/VauX+dAAAAABAgZfrBXqZMmU0depUde/eXR4eHjLGaMqUKSpfvnxurwoAAAAAALeR6wW6JD3++ON6/PHHnTE0AAAAAABuyWk/swYAAAAAAHKOAh0AAAAAABdAgQ4AAAAAgAugQAcAAAAAwAVQoAMAAAAA4AIo0AEAAAAAcAEU6AAAAAAAuAAKdAAAAAAAXAAFOgAAAAAALoACHQAAAAAAF0CBDgAAAACAC6BABwAAAADABVCgAwAAAADgAijQAQAAAABwARToAAAAAAC4AAp0AAAAAABcAAU6AAAAAAAugAIdAAAAAAAXQIEOAAAAAIAL8HTGoOfOnVPr1q1t85cuXdKhQ4d0+vRplSxZ0hmrBAAAAADgnuaUAt3f3187duywzb/55ptat24dxTkAAAAAAA7kySXuM2bM0KBBg/JiVQAAAAAA3JOccgb9eps2bdKZM2cUHR2d7fKUlBSlpKTY5pOTk50dEgAAAAAALsfpZ9CnT5+uvn37ytMz+78FxMbGys/PzzYFBQU5OyQAAAAAAFyOxRhjnDX4xYsXVa5cOW3ZskU1a9bMtk92Z9CDgoKUlJSk4sWLOys0AAAATPDLpi0p7+MAgAIoOTlZfn5+drWvUy9x//LLLxUWFuawOJckq9Uqq9XqzDAAAAAAAHB5Tr3E/dNPP+XhcAAAAAAA5IBTz6Bv2LDBmcMDAAAAAOA28uRn1gAAAAAAwM1RoAMAAAAA4AIo0AEAAAAAcAEU6AAAAAAAuAAKdAAAAAAAXAAFOgAAAAAALoACHQAAAAAAF0CBDgAAAACAC6BABwAAAADABVCgAwAAAADgAijQAQAAAABwARToAAAAAAC4AAp0AAAAAABcAAU6AAAAAAAugAIdAAAAAAAXQIEOAAAAAIALoEAHAAAAAMAFUKADAAAAAOACKNABAAAAAHABTinQU1JSNGLECFWrVk0PPPCAevfu7YzVAAAAAADgNjydMejo0aPl4eGhffv2yWKx6I8//nDGagAAAAAAcBu5XqBfvHhRM2bM0PHjx2WxWCRJ5cqVy+3VAAAAAADgVnL9EveDBw8qICBAEydOVIMGDdSyZUutWrXKYf+UlBQlJyfbTQAAAAAAFDS5fgY9NTVVhw4dUq1atfTaa68pPj5eUVFR2rNnj0qXLp2lf2xsrGJiYnI7DAAAAOS2CX7ZtCXlfRwA4KZy/Qx6pUqV5OHhoV69ekmS6tSpo8qVK2v37t3Z9h8zZoySkpJsU0JCQm6HBAAAAACAy8v1Ar1UqVKKjIzU999/L0k6evSoDh8+rBo1amTb32q1qnjx4nYTAAAAAAAFjVOe4v7RRx9p4MCBeuGFF1SoUCF9/PHHPCgOAAAAAICbcEqBXqVKFa1du9YZQwMAAAAA4JZy/RJ3AAAAAABw+yjQAQAAAABwARToAAAAAAC4AAp0AAAAAABcAAU6AAAAAAAugAIdAAAAAAAXQIEOAAAAAIALoEAHAAAAAMAFUKADAAAAAOACKNABAAAAAHABFOgAAAAAALgACnQAAAAAAFxAjgp0Y4zOnz/v7FgAAAAAACiwHBbogwYN0rlz53T16lWFh4erTJkymjJlSl7GBgAAAABAgeGwQN+2bZv8/f31/fffq27dujp58qSmTp2al7EBAAAAAFBgOCzQjTGSpPXr1ys6OlrFixeXhwe3rAMAAAAA4AwOK+6yZctq6NCh+vLLLxUVFaXU1FSlp6fnZWwAAAAAABQYDgv0OXPmqGbNmpo3b578/f31+++/69lnn83L2AAAAAAAKDAcFuilSpVSz549lZqaKkkqX768evbsmWeBAQAAAABQkDgs0BctWqRGjRqpT58+kqQ9e/bokUceyfHAwcHBqlmzpsLDwxUeHq758+ffdbAAAAAAALgrT0cLJk2apG3btikqKkqSVKdOHR09evS2Bl+4cKFCQ0PvLkIAAAAAAAoAh2fQPTw8FBAQYNfm7e3t9IAAAAAAACiIHJ5BL1asmE6dOiWLxSJJWrNmjUqUKHFbg/fq1UsZGRlq3LixYmNjVbp06Sx9UlJSlJKSYptPTk6+rXUAAAAAAOAOHBbor7/+ujp27KjDhw+rdevW2r9/v5YtW5bjgdevX6+KFSsqNTVVL730kvr166fvvvsuS7/Y2FjFxMTcWfQAAADIfRP8smlLyvs4AKCAsRhjjKOFSUlJ2rhxo4wxatasmfz9/e9oJX/88YeqV6+u8+fPZ1mW3Rn0oKAgJSUlqXjx4ne0PgAAAOSAo0L8dtsBALctOTlZfn5+drWvwzPocXFxqlmzpjp06GB78datW9WgQYNbrujixYtKTU21FfRffPGF6tatm21fq9Uqq9V6u7kAAAAAAOBWHBboQ4YMUVxcnG2+cOHCGjJkiLZt23bLQU+dOqVu3bopPT1dxhhVqVJFs2bNyp2IAQAAAABwQw4L9IyMDBUqVOh/HT09lZaWlqNBq1Spon//+993Hx0AAAAAAAWEw59Z8/b21sGDB23zBw4ckJeXV54EBQAAAABAQePwDPr48ePVokULderUSZK0fPlyffrpp3kWGAAAAAAABYnDAr1Tp05at26dVq5cKUkaM2aMQkJC8iwwAAAAAAAKEocFuiRVr15d1atXz6tYAAAAAAAosBwW6Nu3b9fYsWN16NAhu4fDHTp0KE8CAwAAAACgIHFYoPfr108jRoxQ06ZN7Z7mDgAAAAAAcp/DAr1QoUIaMmRIXsYCAAAAAECB5fBn1po3b85vmQMAAAAAkEccnkHfuHGjpk2bpho1asjHx8fWvmXLljwJDAAAAACAgsRhgf7uu+/mYRgAAAAAABRsDgv0iIgIpaenKyEhQcHBwXkYEgAAAAAABY/De9A3bNigSpUqqVWrVpKkuLg49enTJ88CAwAAAACgIHFYoD///PNat26dAgICJEkNGzbU9u3b8ywwAAAAAAAKEocFelpamkJCQuzavL29nR4QAAAAAAAFkcMC3cfHRxcuXJDFYpEk7d692+5p7gAAAAAAIPc4fEjcyy+/rIceekgnTpxQ//79tWLFCs2ePTsvYwMAAAAAoMDItkA3xqh27dqaPXu2VqxYIWOMXnrpJVWtWjWv4wMAAAAAoEBweAa9Q4cO2rFjh4YNG5aX8QAAAAAAUCBlew+6xWJRSEiIzpw5k9fxAAAAAABQIDk8g16kSBHVrVtX0dHRKlq0qK39jTfeyPHgMTExmjBhgnbu3KnQ0NC7ixQAAAAAADfmsEAPCQnJ8jNrt2P79u365ZdfVLFixTseAwAAAACAgiLbAj09PV0HDhzQ559/fkeDpqSk6Mknn9TcuXPVpk2buwoQAAAAAICCINsCvVChQvr999/veNBx48apd+/eqly58i37pqSkKCUlxTafnJx8x+sFAAAAAOBe5fAS96ioKA0bNkwDBgywuwe9Vq1aNx1w06ZNiouL02uvvZajAGJjYxUTE5PDcAEAcCET/LJpS8r7OICCgOMNQAHgsED/5JNPJEkrVqywtVksFh06dOimA65bt0579+61nT0/fvy4HnroIU2bNk0dOnTI0n/MmDF69tlnbfPJyckKCgq6vSwAAAAAALjHOSzQDx8+fEcDjh49WqNHj7bNBwcH65tvvnH4FHer1Sqr1XpH6wIAAAAAwF04LNCPHTuWbTtPZQcAAAAAIPc5LNDr168vi8UiY4yuXLmiS5cuKSAgQKdPn76tFRw5cuRuYwQAAAAAwO05LNATExPt5hctWqQdO3Y4Ox4AAAAAAAokj5x27Nq1q9asWePMWAAAAAAAKLAcnkG/dOmS7d/p6enavHmzTp06lSdBAQAAAABQ0Dgs0IsWLWq7B71QoUKqWrWq/vWvf+VlbAAAAAAAFBgOC/SMjIy8jAMAAAAAgALN4T3ocXFxOn/+vG3+/Pnz2rp1a54EBQAAAABAQeOwQB8yZIgKFy5sm/f19dWQIUPyJCgAAAAAAAoahwV6RkaGChUqZJv39PRUWlpangQFAAAAAEBB47BA9/b21sGDB23zBw4ckJeXV54EBQAAAABAQePwIXHjx49XixYt1KlTJ0nS8uXL9emnn+ZZYAAAAAAAFCQOC/ROnTpp/fr1+vHHHyVJY8aMUUhISJ4FBgAAAABAQeKwQD927JiCgoI0fPhwSdLly5eVkJCgoKCgPAsOAAAAAICCwuE96N27d89RGwAAAAAAuHsOC/SrV6/Kx8fHNu/r66uUlJQ8CQoAAAAAgILGYYFusVh0+vRp2/ypU6dkjMmToAAAAAAAKGgc3oP+9NNPq0WLFurbt6+MMfr888/10ksv5WVsAAAAAAAUGA4L9AEDBqhYsWJavny5SpUqpU8//VQtW7bMy9gAAAAAACgwsi3Qp02bpldeeUXHjx+XJAUFBalq1aoU6AAAAAAAOEmWAn3mzJl6++23NXXqVDVt2lSStHHjRo0aNUqenp4aMGBAngcJAAAAAIC7y1Kgv/3221qxYoUqVqxoa+vYsaNq1aqlLl265LhAb9eunU6ePCkPDw8VK1ZM7733nsLDw3MtcAAAAAAA3EmWAj09Pd2uOM8UHBys9PT0HA+8YMEC+fv7S5KWLFmigQMHavv27XceKQAAAAAAbizLz6xdvXpVV65cydLx8uXLt/U76JnFuSQlJSXJw8PhL7oBAAAAAFDgZTmD3rVrV/Xp00effPKJrcg+e/asBg8erK5du97W4H379tWaNWskSStWrMi2T0pKil3hn5ycfFvrAAAAAADAHWQp0CdOnKh+/fqpQoUKqlatmiwWi/bt26fOnTvr1Vdfva3BZ82aJUn67LPP9Pe//13fffddlj6xsbGKiYm5w/BR4Ezwy6YtKe/jAAAAd+fG/9P5/xwAshboXl5emjt3rg4ePGi7Z7xu3bqqWrXqHa+kX79+Gjp0qM6cOaOAgAC7ZWPGjNGzzz5rm09OTlZQUNAdrwsAAAAAgHtRtr+DLkkhISEKCQm5o0GTk5N14cIFBQYGSpIWL16sgIAAlSxZMktfq9Uqq9V6R+sBAAAAAMBdOCzQ70ZSUpK6deumy5cvy8PDQ6VLl9Y333wji8XijNUBAAAAAHDPc0qBHhQUpC1btjhjaAAAAAAA3BK/fQYAAAAAgAugQAcAAAAAwAVQoAMAAAAA4AIo0AEAAAAAcAEU6AAAAAAAuAAKdAAAAAAAXAAFOgAAAAAALoACHQAAAAAAF0CBDgAAAACAC6BABwAAAADABVCgAwAAAADgAijQAQAAAABwARToAAAAAAC4AAp0AAAAAABcAAU6AAAAAAAugAIdAAAAAAAXQIEOAAAAAIALoEAHAAAAAMAFUKADAAAAAOACnFKgX7lyRY888oiqV6+u8PBwtW/fXkeOHHHGqgAAAAAAcAtOO4M+ePBg/fbbb9qxY4eio6M1ePBgZ60KAAAAAIB7nlMKdB8fH3Xs2FEWi0WS1KRJEx06dMgZqwIAAAAAwC145sVK/vWvf6lz587ZLktJSVFKSoptPjk5OS9CAgAAAADApTi9QJ80aZL279+vjz76KNvlsbGxiomJcXYYrm+CXzZtSXkfR064Yqy5FZOjce5k/Btfk9/vEf7HFffh/JRb+yrva8HAdkZBcy/t88QK3POc+hT3N998U4sWLdLy5ctVuHDhbPuMGTNGSUlJtikhIcGZIQEAAAAA4JKcdgb97bff1hdffKGVK1fK39/fYT+r1Sqr1eqsMAAAAAAAuCc4pUA/fvy4nnvuOVWpUkVt2rSRdK0Q37x5szNWBwAAAADAPc8pBXqFChVkjHHG0AAAAAAAuCWn3oMOAAAAAAByhgIdAAAAAAAXQIEOAAAAAIALoEAHAAAAAMAFUKADAAAAAOACKNABAAAAAHABFOgAAAAAALgACnQAAAAAAFwABToAAAAAAC6AAh0AAAAAABdAgQ4AAAAAgAugQAcAAAAAwAVQoAMAAAAA4AIo0AEAAAAAcAEU6AAAAAAAuAAKdAAAAAAAXAAFOgAAAAAALoACHQAAAAAAF0CBDgAAAACAC3BKgf70008rODhYFotFu3btcsYqAAAAAABwK04p0Lt3766ffvpJlSpVcsbwAAAAAAC4HU9nDNqqVStnDAsAAAAAgNtySoF+O1JSUpSSkmKbT05OzsdoAAAAAADIH/leoMfGxiomJia/w7hzE/yyaUvKvf7ZvSazv6Oxbrfd2fJrva4qv7Zbbq03L7ZnXhxXzhwnN8fKre2Qn8ehK+5jzlYQc3DFnF3tOLwTjr4D5LR/Tl6TG+6lz09X5OzjzR2OZ0fupViR+9xw++f7U9zHjBmjpKQk25SQkJDfIQEAAAAAkOfy/Qy61WqV1WrN7zAAAAAAAMhXTjmD/uSTT6pChQo6fvy4oqKiVLVqVWesBgAAAAAAt+GUAv2DDz7Q8ePHlZaWppMnT+rAgQPOWA0AAAAAAG4j3+9BBwAAAAAAFOgAAAAAALgECnQAAAAAAFwABToAAAAAAC6AAh0AAAAAABdAgQ4AAAAAgAugQAcAAAAAwAVQoAMAAAAA4AIo0AEAAAAAcAEU6AAAAAAAuAAKdAAAAAAAXAAFOgAAAAAALoACHQAAAAAAF0CBDgAAAACAC6BABwAAAADABVCgAwAAAADgAijQAQAAAABwARToAAAAAAC4AAp0AAAAAABcAAU6AAAAAAAuwCkF+v79+9WsWTNVr15djRo10p49e5yxGgAAAAAA3IZTCvQhQ4Zo8ODB2rdvn55//nkNGjTIGasBAAAAAMBt5HqBfvr0aW3fvl29e/eWJHXr1k2HDx/WkSNHcntVAAAAAAC4Dc/cHjAhIUGBgYHy9Lw2tMViUcWKFXXs2DEFBwdn6Z+SkqKUlBTbfFJSkiQpOTk5t0NzjhSTte1msTvqf7NxblzmqP1WY91urI7kVs53Ir9yu5Px75Xtll/x3Iyz97G8yM3V9sk7+Yy5XffSPpZb3CEHR9xhu7nacXgnbvf4dPbnoSv+P5nT8XMSkzPHyc11OHv7uGLOzh4H96Z7fPtn1rzGXJeHyWVbt241tWrVsmtr0KCBWbduXbb9x48fbyQxMTExMTExMTExMTExMRW4KSEhwVYfW4xduX73Tp8+rWrVqunMmTPy9PSUMUblypXTL7/8kqMz6BkZGfrzzz8VEBAgi8WSm6G5lOTkZAUFBSkhIUHFixfP73DyBDmTs7siZ3J2V+RMzu6sIOZNzuTsru7VnI0xOn/+vAIDA+Xhce3u81y/xP2+++5T3bp1NXv2bPXv319fffWVgoODsy3OJclqtcpqtdq1+fv753ZYLqt48eL31E6UG8i5YCDngoGcCwZyLhgKYs5SwcybnAsGcr43+Pn52c3neoEuSVOnTlX//v01adIkFS9eXJ999pkzVgMAAAAAgNtwSoFeo0YNbdq0yRlDAwAAAADglpzyO+i4NavVqvHjx2e5vN+dkXPBQM4FAzkXDORcMBTEnKWCmTc5FwzkfG/L9YfEAQAAAACA28cZdAAAAAAAXAAFOgAAAAAALoACPY+sWLFCDRo0UFhYmJo0aaL4+HjbstOnT6t9+/aqVq2aQkND9dNPP+VjpLnn+++/V/369VW3bl2FhobaPc3fHXM+d+6cwsPDbVP16tXl6empP//8U5J75ixJKSkpGjFihKpVq6YHHnhAvXv3ti1z15wlKTg4WDVr1rRt7/nz59uWuXPekhQTEyOLxaJdu3bZ2tw153bt2iksLEzh4eFq2bKlduzYYVvmjjlfuXJFjzzyiKpXr67w8HC1b99eR44csS13x5wl6emnn1ZwcHCW/Vpy35yvt3//fjVr1kzVq1dXo0aNtGfPnvwOKdc52sbuun1vdiy7a86S489sd845043/N7tzzo6+g7lNzgZO9+eff5qAgACzZ88eY4wxa9euNQ888IBt+YABA8z48eONMcZs2bLFVKxY0aSmpuZHqLkmIyPDlCxZ0sTHxxtjjDl8+LCxWq0mOTnZGOOeOd9o8uTJJjo62jbvrjmPHDnSPPXUUyYjI8MYY8yJEydsy9w1Z2OMqVSpktm5c2e2y9w5723btpn27dubihUr2uXvrjmfPXvW9u/FixebunXr2ubdMefLly+bb7/91nY8v/fee6Zt27a25e6YszHGrFu3ziQkJGR7XLtrztdr06aNmTFjhjHGmC+//NI0adIkfwNyAkfb2F23782OZXfN2RjHn9nunLMx2f/f7M45O/oO5i45U6Dngbi4OHP//ffbtRUtWtRs27bNGGNMkSJFzOnTp23LGjZsaNasWZOXIea6zAJ93bp1xhhj4uPjTWBgoElJSTHGuGfON6pVq5ZZvHixbd4dc75w4YLx8/Mz58+fz3a5O+ac6WYFurvmfeXKFdOkSRNz6NChLPm7a87Xmzlzpqlfv75tviDkHBcXZ0JCQmzz7p5zdse1u+d86tQp4+fnZ/sSm5GRYcqUKWMOHz6cv4E5SUH87DLG/lguKDlf/5ntzjk7+r/ZnXN29B3MXXJ2yu+gw161atWUmJioX375RU2aNNHixYt14cIFHTlyRJUqVVJGRoZKly5t6x8cHKxjx47lY8R3z2KxaMGCBeratauKFCmis2fPatGiRfL29taZM2fcMufrbdq0SWfOnFF0dLQkuW3OBw8eVEBAgCZOnKiVK1fK19dXEyZMUGRkpNvmfL1evXopIyNDjRs3VmxsrEqXLu3WeY8bN069e/dW5cqV7drdOWdJ6tu3r9asWSPp2u1KkvvnnOlf//qXOnfuLKng5Hy9gpBzQkKCAgMD5el57SuhxWJRxYoVdezYMQUHB+dvcE5WELZvpsxjuSDkfONntrvnnN3/ze6es5T1O5iHh4fb5Mw96HnAz89PX331lUaPHq369etr7dq1qlWrlry8vCRd+8/wesYNfvkuLS1NsbGxWrp0qY4ePapVq1apX79+tvux3THn602fPl19+/a1feGR3DPn1NRUHTp0SLVq1dLWrVv1/vvv669//asSExMluWfOmdavX6/4+Hht375dAQEB6tevn22ZO+a9adMmxcXFafjw4dkud8ecM82aNUsJCQmaOHGi/v73v9va3TlnSZo0aZL279+vV1991dbm7jlnpyDkXBBydKQg5H7jsezuOWf3me2uOd/s/2Z3zVly/B3MXXKmQHeSWbNm2R5cMGPGDLVq1Upr167Vtm3b9MYbb+jEiRO6//77FRAQIEm2gkaSjh49qooVK+ZX6Hfs+pzfeecdnThxQs2bN5ckNWzYUIGBgYqPj3fbnGfMmCFJunjxoubPn6+BAwfa+rlrzqtXr5aHh4d69eolSapTp44qV66s3bt3u1XOUtZtnZmHl5eXRo4cqQ0bNkhy3229du1a7d27V5UrV1ZwcLCOHz+uhx56SMuXL3fbnDOP6Uz9+vXTmjVrdObMGbfP+c0339SiRYu0fPlyFS5cWJL77ts3bufruVPOjgQFBen48eNKS0uTdO0LbUJCglvl6EhB2L43HssFIedMmZ/Zmdwx53Xr1mX7f/OWLVskuWfOkrL9DuZW+3beX1VfMF3/4KwXX3zRdO3a1Tbfr18/uwcaBAUF3ZMPNLjeyZMnTbFixczevXuNMcbs37/flChRwhw/ftwY4545Z5oxY4Zp3rx5lnZ3zblt27bm22+/NcYYc+TIEVOqVCnb/u6uOV+4cMHuQTRvvfWWadmypW3eXfO+3o33f7ljzklJSeb333+3zS9atMiUL1/e9tAld8zZmGv7c7169cyff/6ZZZm75pwpu/sa3T1nY4yJiIiwe0hc48aN8zcgJyoIn12ZHB3L7przzT6z3TXnG12/f7trzjf7DuYuOVOg55FBgwaZGjVqmJCQENO7d2+7HevkyZOmbdu2pmrVqqZWrVpm7dq1+RdoLpo7d64JDQ01YWFhpnbt2uaLL76wLXPXnI0xpkWLFmb69OlZ2t0154MHD5qIiAgTGhpq6tSpYxYtWmRb5s45h4eHm9q1a5vQ0FDTpUsXuwcquWve17vxS6475nzs2DHTsGFD2+dYZGSk+fe//21b7o45JyQkGEmmSpUqpk6dOqZOnTqmUaNGtuXumLMxxgwfPtyUL1/eFCpUyJQpU8buwXjumvP19u7da5o0aWKqVatm6tevb3bt2pXfIeU6R9vYXbfvzY5ld835Zp/Z7przja7/v9ldc77ZdzB3ydlizD16cT4AAAAAAG6Ee9ABAAAAAHABFOgAAAAAALgACnQAAAAAAFwABToAAAAAAC6AAh0AAAAAABdAgQ4AAAAAgAugQAcAAAAAwAVQoAMAcJeCg4NVs2ZNhYeHKzw8XEOHDtXXX3+tv//975KkI0eO6OOPP87nKK959tlnNW/ePEnSzJkz5e/vr/DwcIWGhqpNmzbat29fnsWydu1aNWjQ4LZfN3PmTHXv3l2SFB8fr44dO+Z2aAAA5AsKdAAAcsHChQu1Y8cO7dixQx999JG6dOmiyZMnS3KdAv3333/X8uXL1aNHD1tbVFSUduzYoV27dqlhw4YaOXJk/gV4B+rUqSNPT0+tXbs2v0MBAOCuUaADAOAE15/lHTp0qPbs2aPw8HB16dJF0rWz7jExMWrWrJkqV66siRMn2l578uRJPfbYY2rUqJHCwsI0btw4SVJGRoZGjBihmjVrqk6dOqpfv76uXLmixMREtWvXTrVr11ZYWJgGDBiQbUzTp09X9+7dZbFYsl3epk0bHT161Db/xhtv6IEHHlDt2rXVq1cvJSUlSZImTJigUaNG2fq9//776t+/vy3vhx56SI8//rhq166tBg0a6NChQ7a+L730kqpWraqIiAh98803duv//PPP1bhxY9WrV08RERHatWuXJOnq1asaMmSIqlevrjZt2mjz5s12r+vZs6c++eQTB1sCAIB7h2d+BwAAgDvo3r27fHx8JEnjx4+3W/bRRx9p1KhR2rp1q137uXPntHHjRiUmJqpq1aoaMGCAypcvr379+unFF19Uq1atlJaWpujoaC1evFjBwcFatWqV9uzZIw8PDyUlJcnb21uzZ89WcHCwfvjhB0nSn3/+mW2Ma9eutSusr5eRkaHFixfrr3/9qyRp+fLlmjFjhjZt2iR/f38NHjxYY8eO1QcffHDL92Lz5s2Kj49XpUqVNHr0aL3++uuaOnWqli1bpq+//lo7duyQr6+vHn30Udtrfv75Z82bN0/r16+X1WrVhg0b1KtXL8XHx2vq1Kk6fPiwdu/erdTUVLVq1UrBwcG21zZr1uyeO/MPAEB2KNABAMgFCxcuVGhoqG1+5syZt3xNr169JEmlS5dWlSpVdPjwYfn7+2v16tU6deqUrd+FCxe0d+9ePfjgg0pNTdXAgQPVpk0bderUSR4eHmrSpIneeecdPffcc4qIiNBDDz2U7fqOHz+usmXL2rWtXLlS4eHhOnbsmEqWLGk7O71y5Ur16tVL/v7+kqRhw4bZivdbadGihSpVqiRJatq0qd577z1J0po1a9SjRw8VLVpUkjRw4EDblQNLly5VfHy8GjdubBsnMTFRV69e1Zo1a9SvXz95eXnJy8tLvXv31k8//WTrV7ZsWZ06dUqpqany8vLKUYwAALgiLnEHACCfZJ5xl6RChQopLS1NGRkZslgsiouLs93TfuDAAY0ZM0Z+fn7avXu3evbsqb179yosLEwHDhxQ06ZNtWPHDjVu3FhfffWVGjZsqPT09CzrK1y4sC5fvmzXlnkP+vHjx1W9enUNHz5ckmSMyXIpfOa8p6en3fhXrly5ZV6ZYzpijNHAgQNtOe/YsUMnTpyQt7f3TV+Xuf7M4h0AgHsZBToAAE5WvHhx2/3bt1KsWDG1bNlSr732mq3txIkTOn78uBITE3Xx4kW1a9dOkyZNUnBwsPbs2aPDhw+raNGieuyxx/Tee+9p3759unDhQpaxw8LCtHfv3mzXW7hwYU2bNk3fffedtm/frrZt22revHk6f/68JOnjjz9WVFSUJCkkJERbt25VRkaGLl26pK+++ipHuUVGRmrBggW6ePGi0tPT7a4y6Ny5s2bNmqWEhARJ1y65z7wlIDIyUp9//rnS0tJ0+fJlzZ07127c//znPwoLC8tRDAAAuDIKdAAAnCwsLEw1atRQaGio7SFxNzNnzhz95z//Ue3atVW7dm1169ZNZ86cUUJCgtq2bauwsDDVrl1boaGh6tChg9auXav69esrPDxczZs31+TJk+Xn55dl3O7du2v58uUO1xsYGKhRo0Zp/Pjx6tChg/r06aOmTZuqdu3aSk5O1quvvipJ6tatm+677z7VqlVLXbt2VXh4eI7eh+joaEVHR6tOnTp68MEH7YrqVq1aadKkSXr44YdVp04dhYaGav78+ZKkwYMHq2LFiqpVq5Y6deqkli1b2o27YsUKdevWLUcxAADgyizmVteNAQAAt5CRkaGGDRtq6dKlqlChQn6HkyuuXr2qhg0batWqVSpVqlR+hwMAwF2hQAcAoADZunWrrly5ohYtWuR3KLnit99+08GDB9WxY8f8DgUAgLtGgQ4AAAAAgAvgHnQAAAAAAFwABToAAAAAAC6AAh0AAAAAABfw/1ip6S9Z/2TmAAAAAElFTkSuQmCC' width=1000.0/>\n",
       "            </div>\n",
       "        "
      ],
      "text/plain": [
       "Canvas(header_visible=False, toolbar=Toolbar(toolitems=[('Home', 'Reset original view', 'home', 'home'), ('Bac…"
      ]
     },
     "metadata": {},
     "output_type": "display_data"
    },
    {
     "name": "stdout",
     "output_type": "stream",
     "text": [
      "Stairstep data:\n",
      "[-92.1811738648948, -76.05714285714286, 1.011295681063123, 7.302325581395349, 15.503875968992247, 25.58139534883721, 25.58139534883721, 25.58139534883721, 25.58139534883721, 25.58139534883721, 25.58139534883721, 25.58139534883721, 25.58139534883721, 25.58139534883721, 25.58139534883721, 25.58139534883721, 25.58139534883721, 25.58139534883721, 25.58139534883721, 25.58139534883721, 25.58139534883721, 25.58139534883721, 25.58139534883721, 25.58139534883721, 25.58139534883721, 25.58139534883721, 25.58139534883721, 25.58139534883721, 25.58139534883721, 25.58139534883721, 25.58139534883721, 25.58139534883721, 25.58139534883721, 25.58139534883721, 25.58139534883721, 25.58139534883721, 25.58139534883721, 25.58139534883721, 25.58139534883721, 25.58139534883721, 25.58139534883721, 25.58139534883721, 25.58139534883721, 25.58139534883721, 25.58139534883721, 25.58139534883721, 25.58139534883721, 25.58139534883721, 25.58139534883721, 25.58139534883721, 25.58139534883721, 25.58139534883721, 25.58139534883721, 25.58139534883721, 25.58139534883721, 25.58139534883721, 25.58139534883721, 25.58139534883721, 25.58139534883721, 25.58139534883721, 25.58139534883721, 25.58139534883721, 25.58139534883721, 25.58139534883721, 25.58139534883721, 25.58139534883721, 25.58139534883721, 25.58139534883721, 25.58139534883721, 25.58139534883721, 25.58139534883721, 25.58139534883721, 25.58139534883721, 25.58139534883721, 50.310077519379846, 50.310077519379846, 50.310077519379846, 50.310077519379846, 50.310077519379846, 50.310077519379846, 50.310077519379846, 50.310077519379846, 50.310077519379846, 50.310077519379846, 50.310077519379846, 50.310077519379846, 50.310077519379846, 50.310077519379846, 50.310077519379846, 50.310077519379846, 50.310077519379846, 50.310077519379846, 50.310077519379846, 50.310077519379846, 50.310077519379846, 50.310077519379846, 50.310077519379846, 50.310077519379846, 50.310077519379846, 50.310077519379846]\n"
     ]
    }
   ],
   "source": [
    "config = read_config('configs/2a/green_config.txt', globals(), locals())\n",
    "num_evaluations = 100 # Smaller eval count to make this test quicker\n",
    "\n",
    "# Call your function\n",
    "(\n",
    "    best_solution,\n",
    "    best_score,\n",
    "    best_log,\n",
    "    stairstep_data,\n",
    "    hist\n",
    ") = random_search_run(num_evaluations, config)\n",
    "\n",
    "print('Best solution looks like:')\n",
    "print(best_solution.serialize())\n",
    "print('Best score:', best_score)\n",
    "\n",
    "print('Histogram:')\n",
    "hist.get_plot(f'Example Random Search with {num_evaluations} Evaluations').show()\n",
    "\n",
    "print('Stairstep data:')\n",
    "print(stairstep_data)\n",
    "\n",
    "del config, num_evaluations, best_solution, best_score, best_log, stairstep_data, hist"
   ]
  },
  {
   "cell_type": "markdown",
   "id": "b11b22a0",
   "metadata": {},
   "source": [
    "## Full Random Search Experiment\n",
    "Now, write the code for conducting a multi-run experiment in the following cell. For data collection, you need to return five things from this function:\n",
    "\n",
    "1. The highest score encountered in each run (one number per run) as `best_per_run`\n",
    "2. The highest-scoring `TreeGenotype` found by any of the runs as `best_solution`\n",
    "3. The log from the highest-score game found by any of the runs as `best_log`\n",
    "4. The `stairstep_data` from the run which produced the best solution\n",
    "5. The `RoundedFitnessHistogramMaker` representing the data collected from the runs (**this is already done for you!**)\n",
    "\n",
    "As with the previous assignments, there are two important things to note about this cell. First, **any time you change a `.py` file, you need to re-execute the following cell** to avoid pickling errors. Second, if you run out of RAM (which typically manifests as your program no longer utilizing the CPU, even though it *looks* like it's still running), you need to pass `processes=x` to the `multiprocessing.Pool` call in order to limit the number of runs that execute in parallel."
   ]
  },
  {
   "cell_type": "code",
   "execution_count": 186,
   "id": "4cd0df7d",
   "metadata": {},
   "outputs": [],
   "source": [
    "from tree_genotype import TreeGenotype\n",
    "from fitness import play_GPac\n",
    "\n",
    "# Returning a TreeGenotype object can cause pickling issues depending on your implementation.\n",
    "# This just calls your random search run function, and serializes the best solution.\n",
    "# We instead return this serialized string and the other data, sidestepping the issue.\n",
    "def multiprocess_helper(num_evaluations, config):\n",
    "    (\n",
    "        best_solution,\n",
    "        best_score,\n",
    "        best_log,\n",
    "        stairstep_data,\n",
    "        hist\n",
    "    ) = random_search_run(num_evaluations, config)\n",
    "    return best_solution.serialize(), best_score, best_log, stairstep_data, hist\n",
    "\n",
    "\n",
    "def random_search_experiment(num_runs, num_evaluations, config):\n",
    "    # We handle this for you; don't worry about the histograms here\n",
    "    hist_per_run = []\n",
    "\n",
    "    # Assign the highest score seen in each run to this variable\n",
    "    # i.e., a list/tuple of num_runs numbers\n",
    "    best_per_run = []\n",
    "    \n",
    "    # Assign your best TreeGenotype to this variable\n",
    "    # It should be the highest-scoring solution seen across all runs\n",
    "    best_solution = None\n",
    "\n",
    "    # Assign the log from the highest-scoring game to this variable\n",
    "    best_log = None\n",
    "\n",
    "    # Assign the stairstep data from your best run to this variable\n",
    "    # That is, this is stairstep_data from the same run as best_solution\n",
    "    stairstep_data = None\n",
    "    \n",
    "    # This executes your runs in parallel, using the multiprocess_helper function\n",
    "    # IMPORTANT: If you are running out of RAM, as mentioned in the above text,\n",
    "    # you can pass 'processes' keyword argument to multiprocessing.Pool() here\n",
    "    with multiprocessing.Pool() as pool:\n",
    "        args = [(num_evaluations, config)] * num_runs\n",
    "        run_results = list(pool.starmap(multiprocess_helper, args))\n",
    "\n",
    "    best_score = -inf\n",
    "\n",
    "    # Iterate over the completed runs' results\n",
    "    for i in range(num_runs):\n",
    "        # This gets the data from run i,\n",
    "        # deserializes its best solution as run_best_solution,\n",
    "        # and collects the histogram (don't worry about the histogram)\n",
    "        run_serialization, run_best_score, run_best_log, run_stairstep_data, hist = run_results[i]\n",
    "        run_best_solution = TreeGenotype()\n",
    "        run_best_solution.deserialize(run_serialization)\n",
    "        hist_per_run.append(hist)\n",
    "\n",
    "        # TODO: Use run_best_solution, run_best_score,\n",
    "        #       run_best_log, and run_stairstep_data\n",
    "        #       to collect data in the variables described at\n",
    "        #       the start of this function\n",
    "\n",
    "        best_per_run.append(run_best_score)\n",
    "\n",
    "        if run_best_score > best_score:\n",
    "            best_solution = run_best_solution\n",
    "            best_score = run_best_score\n",
    "            best_log = run_best_log\n",
    "            stairstep_data = run_stairstep_data\n",
    "            \n",
    "    # Merge the histograms into one single histogram\n",
    "    merged_hist = RoundedFitnessHistogramMaker.merge(hist_per_run)\n",
    "\n",
    "    return best_per_run, best_solution, best_log, stairstep_data, merged_hist"
   ]
  },
  {
   "cell_type": "markdown",
   "id": "ced145d0-fc92-4801-897d-cb8bf05412a9",
   "metadata": {},
   "source": [
    "Let's run a quick test in the next cell to make sure everything works, before we embark on a full experiment. As a reminder, **if you change the previous cell, make sure to re-run that cell to save the changes to your function!** We'll do 3 runs of 1,000 evaluations each:"
   ]
  },
  {
   "cell_type": "code",
   "execution_count": 187,
   "id": "c13557dd-661b-4425-90b1-578d6d5f2124",
   "metadata": {},
   "outputs": [
    {
     "name": "stdout",
     "output_type": "stream",
     "text": [
      "Correct number of best fitnesses? True\n",
      "Best fitness per run: [52.713178294573645, 64.96124031007753, 78.21705426356588]\n",
      "Best solution looks like:\n",
      "RAND\n",
      "|+\n",
      "||-\n",
      "|||*\n",
      "||||+\n",
      "|||||RAND\n",
      "||||||7.395180812498985\n",
      "||||||W\n",
      "|||||+\n",
      "||||||F\n",
      "||||||P\n",
      "||||-\n",
      "|||||/\n",
      "||||||G\n",
      "||||||P\n",
      "|||||/\n",
      "||||||P\n",
      "||||||F\n",
      "|||RAND\n",
      "||||/\n",
      "|||||*\n",
      "||||||-11.032036932378226\n",
      "||||||F\n",
      "|||||-\n",
      "||||||16.335563565776575\n",
      "||||||G\n",
      "||||*\n",
      "|||||-\n",
      "||||||P\n",
      "||||||21.97157223110777\n",
      "|||||RAND\n",
      "||||||21.621759002085106\n",
      "||||||F\n",
      "||-\n",
      "|||/\n",
      "||||-\n",
      "|||||/\n",
      "||||||F\n",
      "||||||F\n",
      "|||||*\n",
      "||||||P\n",
      "||||||F\n",
      "||||+\n",
      "|||||+\n",
      "||||||P\n",
      "||||||G\n",
      "|||||RAND\n",
      "||||||-4.384549953398853\n",
      "||||||F\n",
      "|||+\n",
      "||||/\n",
      "|||||RAND\n",
      "||||||F\n",
      "||||||17.398867019037233\n",
      "|||||RAND\n",
      "||||||F\n",
      "||||||W\n",
      "||||/\n",
      "|||||/\n",
      "||||||G\n",
      "||||||G\n",
      "|||||RAND\n",
      "||||||G\n",
      "||||||G\n",
      "|-\n",
      "||RAND\n",
      "|||+\n",
      "||||+\n",
      "|||||*\n",
      "||||||G\n",
      "||||||W\n",
      "|||||-\n",
      "||||||W\n",
      "||||||P\n",
      "||||/\n",
      "|||||RAND\n",
      "||||||W\n",
      "||||||7.617197333931067\n",
      "|||||-\n",
      "||||||F\n",
      "||||||G\n",
      "|||+\n",
      "||||+\n",
      "|||||-\n",
      "||||||G\n",
      "||||||P\n",
      "|||||+\n",
      "||||||W\n",
      "||||||W\n",
      "||||RAND\n",
      "|||||-\n",
      "||||||W\n",
      "||||||P\n",
      "|||||-\n",
      "||||||P\n",
      "||||||G\n",
      "||-\n",
      "|||*\n",
      "||||*\n",
      "|||||*\n",
      "||||||W\n",
      "||||||G\n",
      "|||||+\n",
      "||||||P\n",
      "||||||F\n",
      "||||RAND\n",
      "|||||+\n",
      "||||||G\n",
      "||||||-11.403660749069871\n",
      "|||||RAND\n",
      "||||||G\n",
      "||||||W\n",
      "|||*\n",
      "||||-\n",
      "|||||/\n",
      "||||||G\n",
      "||||||23.920235224064925\n",
      "|||||-\n",
      "||||||F\n",
      "||||||W\n",
      "||||*\n",
      "|||||*\n",
      "||||||F\n",
      "||||||P\n",
      "|||||/\n",
      "||||||F\n",
      "||||||F\n",
      "\n",
      "Histogram:\n"
     ]
    },
    {
     "data": {
      "application/vnd.jupyter.widget-view+json": {
       "model_id": "49d954d80504498195a2f14f592a14e4",
       "version_major": 2,
       "version_minor": 0
      },
      "image/png": "[encoded data removed]",
      "text/html": [
       "\n",
       "            <div style=\"display: inline-block;\">\n",
       "                <div class=\"jupyter-widgets widget-label\" style=\"text-align: center;\">\n",
       "                    Figure\n",
       "                </div>\n",
       "                <img src='data:image/png;base64,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' width=1000.0/>\n",
       "            </div>\n",
       "        "
      ],
      "text/plain": [
       "Canvas(header_visible=False, toolbar=Toolbar(toolitems=[('Home', 'Reset original view', 'home', 'home'), ('Bac…"
      ]
     },
     "metadata": {},
     "output_type": "display_data"
    },
    {
     "name": "stdout",
     "output_type": "stream",
     "text": [
      "Stairstep data:\n",
      "[23.953488372093023, 23.953488372093023, 23.953488372093023, 23.953488372093023, 23.953488372093023, 23.953488372093023, 23.953488372093023, 23.953488372093023, 23.953488372093023, 23.953488372093023, 23.953488372093023, 23.953488372093023, 23.953488372093023, 24.031007751937985, 24.031007751937985, 24.031007751937985, 24.031007751937985, 24.031007751937985, 24.8062015503876, 24.8062015503876, 24.8062015503876, 24.8062015503876, 24.8062015503876, 24.8062015503876, 24.8062015503876, 24.8062015503876, 24.8062015503876, 24.8062015503876, 24.8062015503876, 24.8062015503876, 24.8062015503876, 24.8062015503876, 24.8062015503876, 24.8062015503876, 24.8062015503876, 24.8062015503876, 25.58139534883721, 25.58139534883721, 25.58139534883721, 25.58139534883721, 25.58139534883721, 25.58139534883721, 25.58139534883721, 25.58139534883721, 25.58139534883721, 25.58139534883721, 25.58139534883721, 25.58139534883721, 25.58139534883721, 25.58139534883721, 25.58139534883721, 25.58139534883721, 25.58139534883721, 25.58139534883721, 25.58139534883721, 25.58139534883721, 25.58139534883721, 25.58139534883721, 25.58139534883721, 25.58139534883721, 25.58139534883721, 25.58139534883721, 25.58139534883721, 25.58139534883721, 25.58139534883721, 25.58139534883721, 25.58139534883721, 25.58139534883721, 25.58139534883721, 25.58139534883721, 25.58139534883721, 25.58139534883721, 25.58139534883721, 25.58139534883721, 25.58139534883721, 25.58139534883721, 25.58139534883721, 25.58139534883721, 25.58139534883721, 25.58139534883721, 25.58139534883721, 25.58139534883721, 25.58139534883721, 25.58139534883721, 25.58139534883721, 25.58139534883721, 25.58139534883721, 25.58139534883721, 25.58139534883721, 25.58139534883721, 25.58139534883721, 25.58139534883721, 25.58139534883721, 25.58139534883721, 25.58139534883721, 25.58139534883721, 25.58139534883721, 25.58139534883721, 25.58139534883721, 25.58139534883721, 25.58139534883721, 25.58139534883721, 25.58139534883721, 25.58139534883721, 25.58139534883721, 25.58139534883721, 25.58139534883721, 25.58139534883721, 25.58139534883721, 25.58139534883721, 25.58139534883721, 25.58139534883721, 25.58139534883721, 25.58139534883721, 25.58139534883721, 25.58139534883721, 25.58139534883721, 31.705426356589147, 31.705426356589147, 31.705426356589147, 31.705426356589147, 31.705426356589147, 31.705426356589147, 31.705426356589147, 31.705426356589147, 31.705426356589147, 31.705426356589147, 31.705426356589147, 31.705426356589147, 31.705426356589147, 31.705426356589147, 31.705426356589147, 31.705426356589147, 31.705426356589147, 31.705426356589147, 31.705426356589147, 31.705426356589147, 31.705426356589147, 31.705426356589147, 31.705426356589147, 31.705426356589147, 31.705426356589147, 31.705426356589147, 31.705426356589147, 31.705426356589147, 31.705426356589147, 31.705426356589147, 31.705426356589147, 31.705426356589147, 31.705426356589147, 31.705426356589147, 31.705426356589147, 31.705426356589147, 31.705426356589147, 31.705426356589147, 31.705426356589147, 31.705426356589147, 31.705426356589147, 31.705426356589147, 31.705426356589147, 34.883720930232556, 34.883720930232556, 34.883720930232556, 34.883720930232556, 34.883720930232556, 34.883720930232556, 34.883720930232556, 34.883720930232556, 34.883720930232556, 34.883720930232556, 34.883720930232556, 34.883720930232556, 34.883720930232556, 34.883720930232556, 34.883720930232556, 34.883720930232556, 34.883720930232556, 34.883720930232556, 34.883720930232556, 34.883720930232556, 34.883720930232556, 34.883720930232556, 34.883720930232556, 34.883720930232556, 34.883720930232556, 34.883720930232556, 34.883720930232556, 34.883720930232556, 34.883720930232556, 34.883720930232556, 34.883720930232556, 34.883720930232556, 34.883720930232556, 34.883720930232556, 34.883720930232556, 34.883720930232556, 34.883720930232556, 34.883720930232556, 34.883720930232556, 34.883720930232556, 34.883720930232556, 34.883720930232556, 34.883720930232556, 34.883720930232556, 34.883720930232556, 34.883720930232556, 34.883720930232556, 34.883720930232556, 34.883720930232556, 34.883720930232556, 34.883720930232556, 34.883720930232556, 34.883720930232556, 34.883720930232556, 34.883720930232556, 34.883720930232556, 34.883720930232556, 34.883720930232556, 34.883720930232556, 34.883720930232556, 34.883720930232556, 34.883720930232556, 34.883720930232556, 37.007751937984494, 37.007751937984494, 37.007751937984494, 37.007751937984494, 37.007751937984494, 37.007751937984494, 37.007751937984494, 37.007751937984494, 37.007751937984494, 37.007751937984494, 37.007751937984494, 37.007751937984494, 37.007751937984494, 37.007751937984494, 37.007751937984494, 37.007751937984494, 37.007751937984494, 37.007751937984494, 37.007751937984494, 37.007751937984494, 37.007751937984494, 37.007751937984494, 37.007751937984494, 37.007751937984494, 37.007751937984494, 37.007751937984494, 37.007751937984494, 37.007751937984494, 37.007751937984494, 37.007751937984494, 37.007751937984494, 37.007751937984494, 37.007751937984494, 37.007751937984494, 37.007751937984494, 37.007751937984494, 37.007751937984494, 37.007751937984494, 37.007751937984494, 37.007751937984494, 37.007751937984494, 37.007751937984494, 37.007751937984494, 37.007751937984494, 37.007751937984494, 37.007751937984494, 37.007751937984494, 37.007751937984494, 37.007751937984494, 37.007751937984494, 37.007751937984494, 37.007751937984494, 37.007751937984494, 37.007751937984494, 37.007751937984494, 37.007751937984494, 37.007751937984494, 37.007751937984494, 37.007751937984494, 37.007751937984494, 37.007751937984494, 37.007751937984494, 37.007751937984494, 37.054263565891475, 37.054263565891475, 37.054263565891475, 46.521373200442966, 46.521373200442966, 46.521373200442966, 46.521373200442966, 46.521373200442966, 46.521373200442966, 46.521373200442966, 46.521373200442966, 46.521373200442966, 46.521373200442966, 46.521373200442966, 46.521373200442966, 46.521373200442966, 46.521373200442966, 46.521373200442966, 46.521373200442966, 46.521373200442966, 46.521373200442966, 46.521373200442966, 46.521373200442966, 46.521373200442966, 46.521373200442966, 46.521373200442966, 46.521373200442966, 46.521373200442966, 46.521373200442966, 46.521373200442966, 46.521373200442966, 46.521373200442966, 46.521373200442966, 46.521373200442966, 46.521373200442966, 46.521373200442966, 46.521373200442966, 46.521373200442966, 46.521373200442966, 46.521373200442966, 46.521373200442966, 46.521373200442966, 46.521373200442966, 46.521373200442966, 46.521373200442966, 46.521373200442966, 46.521373200442966, 46.521373200442966, 53.333333333333336, 53.333333333333336, 53.333333333333336, 53.333333333333336, 53.333333333333336, 53.333333333333336, 53.333333333333336, 53.333333333333336, 53.333333333333336, 53.333333333333336, 53.333333333333336, 53.333333333333336, 53.333333333333336, 53.333333333333336, 53.333333333333336, 53.333333333333336, 53.333333333333336, 53.333333333333336, 53.333333333333336, 53.333333333333336, 53.333333333333336, 53.333333333333336, 53.333333333333336, 53.333333333333336, 53.333333333333336, 53.333333333333336, 53.333333333333336, 53.333333333333336, 53.333333333333336, 53.333333333333336, 53.333333333333336, 53.333333333333336, 53.333333333333336, 53.333333333333336, 53.333333333333336, 53.333333333333336, 53.333333333333336, 53.333333333333336, 53.333333333333336, 53.333333333333336, 53.333333333333336, 53.333333333333336, 53.333333333333336, 53.333333333333336, 53.333333333333336, 53.333333333333336, 53.333333333333336, 53.333333333333336, 53.333333333333336, 53.333333333333336, 53.333333333333336, 53.333333333333336, 53.333333333333336, 53.333333333333336, 53.333333333333336, 53.333333333333336, 53.333333333333336, 53.333333333333336, 53.333333333333336, 53.333333333333336, 53.333333333333336, 53.333333333333336, 53.333333333333336, 53.333333333333336, 53.333333333333336, 53.333333333333336, 53.333333333333336, 53.333333333333336, 53.333333333333336, 53.333333333333336, 53.333333333333336, 53.333333333333336, 53.333333333333336, 53.333333333333336, 53.333333333333336, 53.333333333333336, 53.333333333333336, 53.333333333333336, 53.333333333333336, 53.333333333333336, 53.333333333333336, 53.333333333333336, 53.333333333333336, 53.333333333333336, 53.333333333333336, 53.333333333333336, 53.333333333333336, 53.333333333333336, 53.333333333333336, 53.333333333333336, 53.333333333333336, 53.333333333333336, 53.333333333333336, 53.333333333333336, 53.333333333333336, 53.333333333333336, 53.333333333333336, 53.333333333333336, 53.333333333333336, 53.333333333333336, 53.333333333333336, 53.333333333333336, 53.333333333333336, 53.333333333333336, 53.333333333333336, 53.333333333333336, 53.333333333333336, 53.333333333333336, 53.333333333333336, 53.333333333333336, 53.333333333333336, 53.333333333333336, 53.333333333333336, 53.333333333333336, 53.333333333333336, 53.333333333333336, 53.333333333333336, 53.333333333333336, 53.333333333333336, 53.333333333333336, 53.333333333333336, 53.333333333333336, 53.333333333333336, 53.333333333333336, 54.10852713178294, 54.10852713178294, 54.10852713178294, 54.10852713178294, 54.10852713178294, 54.10852713178294, 54.10852713178294, 54.10852713178294, 54.10852713178294, 54.10852713178294, 54.10852713178294, 54.10852713178294, 54.10852713178294, 54.10852713178294, 54.10852713178294, 54.10852713178294, 54.10852713178294, 54.10852713178294, 54.10852713178294, 54.10852713178294, 54.10852713178294, 54.10852713178294, 54.10852713178294, 54.10852713178294, 54.10852713178294, 54.10852713178294, 54.10852713178294, 54.10852713178294, 54.10852713178294, 54.10852713178294, 54.10852713178294, 54.10852713178294, 54.10852713178294, 54.10852713178294, 54.10852713178294, 54.10852713178294, 54.10852713178294, 54.10852713178294, 54.10852713178294, 54.10852713178294, 54.10852713178294, 54.10852713178294, 54.10852713178294, 54.10852713178294, 54.10852713178294, 54.10852713178294, 54.10852713178294, 54.10852713178294, 54.10852713178294, 54.10852713178294, 54.10852713178294, 54.10852713178294, 54.10852713178294, 54.10852713178294, 54.10852713178294, 54.10852713178294, 54.10852713178294, 54.10852713178294, 54.10852713178294, 54.10852713178294, 54.10852713178294, 54.10852713178294, 54.10852713178294, 54.10852713178294, 54.10852713178294, 54.10852713178294, 54.10852713178294, 54.10852713178294, 54.10852713178294, 54.10852713178294, 54.10852713178294, 54.10852713178294, 54.10852713178294, 54.10852713178294, 54.10852713178294, 54.10852713178294, 54.10852713178294, 54.10852713178294, 54.10852713178294, 54.10852713178294, 54.10852713178294, 54.10852713178294, 54.10852713178294, 54.10852713178294, 54.10852713178294, 54.10852713178294, 54.10852713178294, 54.10852713178294, 54.10852713178294, 54.10852713178294, 54.10852713178294, 54.10852713178294, 54.10852713178294, 54.10852713178294, 54.10852713178294, 54.10852713178294, 54.10852713178294, 54.10852713178294, 54.10852713178294, 54.10852713178294, 54.10852713178294, 54.10852713178294, 54.10852713178294, 54.10852713178294, 54.10852713178294, 54.10852713178294, 54.10852713178294, 54.10852713178294, 54.10852713178294, 54.10852713178294, 54.10852713178294, 54.10852713178294, 54.10852713178294, 54.10852713178294, 54.10852713178294, 54.10852713178294, 54.10852713178294, 54.10852713178294, 54.10852713178294, 54.10852713178294, 54.10852713178294, 54.10852713178294, 54.10852713178294, 54.10852713178294, 54.10852713178294, 54.10852713178294, 54.10852713178294, 54.10852713178294, 54.10852713178294, 54.10852713178294, 54.10852713178294, 54.10852713178294, 54.10852713178294, 54.10852713178294, 54.10852713178294, 54.10852713178294, 54.10852713178294, 54.10852713178294, 54.10852713178294, 54.10852713178294, 54.10852713178294, 54.10852713178294, 54.10852713178294, 54.10852713178294, 54.10852713178294, 54.10852713178294, 54.10852713178294, 54.10852713178294, 54.10852713178294, 54.10852713178294, 54.10852713178294, 54.10852713178294, 54.10852713178294, 54.10852713178294, 54.10852713178294, 54.10852713178294, 54.10852713178294, 54.10852713178294, 54.10852713178294, 54.10852713178294, 54.10852713178294, 54.10852713178294, 54.10852713178294, 54.10852713178294, 54.10852713178294, 54.10852713178294, 54.10852713178294, 54.10852713178294, 54.10852713178294, 54.10852713178294, 54.10852713178294, 54.10852713178294, 54.10852713178294, 54.10852713178294, 54.10852713178294, 54.10852713178294, 54.10852713178294, 54.10852713178294, 54.10852713178294, 54.10852713178294, 54.10852713178294, 54.10852713178294, 54.10852713178294, 54.10852713178294, 54.10852713178294, 54.10852713178294, 54.10852713178294, 54.10852713178294, 54.10852713178294, 54.10852713178294, 54.10852713178294, 54.10852713178294, 54.10852713178294, 54.10852713178294, 54.10852713178294, 54.10852713178294, 54.10852713178294, 54.10852713178294, 54.10852713178294, 54.10852713178294, 54.10852713178294, 54.10852713178294, 54.10852713178294, 54.10852713178294, 54.10852713178294, 54.10852713178294, 54.10852713178294, 54.10852713178294, 54.10852713178294, 54.10852713178294, 54.10852713178294, 54.10852713178294, 54.10852713178294, 54.10852713178294, 54.10852713178294, 54.10852713178294, 54.10852713178294, 54.10852713178294, 54.10852713178294, 54.10852713178294, 54.10852713178294, 54.10852713178294, 54.10852713178294, 54.10852713178294, 54.10852713178294, 54.10852713178294, 54.10852713178294, 54.10852713178294, 54.10852713178294, 54.10852713178294, 54.10852713178294, 54.10852713178294, 54.10852713178294, 54.10852713178294, 54.10852713178294, 54.10852713178294, 54.10852713178294, 54.10852713178294, 54.10852713178294, 54.10852713178294, 54.10852713178294, 54.10852713178294, 54.10852713178294, 54.10852713178294, 54.10852713178294, 54.10852713178294, 54.10852713178294, 54.10852713178294, 54.10852713178294, 54.10852713178294, 54.10852713178294, 54.10852713178294, 54.10852713178294, 54.10852713178294, 54.10852713178294, 54.10852713178294, 54.10852713178294, 54.10852713178294, 54.10852713178294, 54.10852713178294, 54.10852713178294, 54.10852713178294, 54.10852713178294, 54.10852713178294, 54.10852713178294, 54.10852713178294, 54.10852713178294, 54.10852713178294, 54.10852713178294, 54.10852713178294, 54.10852713178294, 54.10852713178294, 54.10852713178294, 54.10852713178294, 78.21705426356588, 78.21705426356588, 78.21705426356588, 78.21705426356588, 78.21705426356588, 78.21705426356588, 78.21705426356588, 78.21705426356588, 78.21705426356588, 78.21705426356588, 78.21705426356588, 78.21705426356588, 78.21705426356588, 78.21705426356588, 78.21705426356588, 78.21705426356588, 78.21705426356588, 78.21705426356588, 78.21705426356588, 78.21705426356588, 78.21705426356588, 78.21705426356588, 78.21705426356588, 78.21705426356588, 78.21705426356588, 78.21705426356588, 78.21705426356588, 78.21705426356588, 78.21705426356588, 78.21705426356588, 78.21705426356588, 78.21705426356588, 78.21705426356588, 78.21705426356588, 78.21705426356588, 78.21705426356588, 78.21705426356588, 78.21705426356588, 78.21705426356588, 78.21705426356588, 78.21705426356588, 78.21705426356588, 78.21705426356588, 78.21705426356588, 78.21705426356588, 78.21705426356588, 78.21705426356588, 78.21705426356588, 78.21705426356588, 78.21705426356588, 78.21705426356588, 78.21705426356588, 78.21705426356588, 78.21705426356588, 78.21705426356588, 78.21705426356588, 78.21705426356588, 78.21705426356588, 78.21705426356588, 78.21705426356588, 78.21705426356588, 78.21705426356588, 78.21705426356588, 78.21705426356588, 78.21705426356588, 78.21705426356588, 78.21705426356588, 78.21705426356588, 78.21705426356588, 78.21705426356588, 78.21705426356588, 78.21705426356588, 78.21705426356588, 78.21705426356588, 78.21705426356588, 78.21705426356588, 78.21705426356588, 78.21705426356588, 78.21705426356588, 78.21705426356588, 78.21705426356588, 78.21705426356588, 78.21705426356588, 78.21705426356588, 78.21705426356588, 78.21705426356588, 78.21705426356588, 78.21705426356588, 78.21705426356588, 78.21705426356588, 78.21705426356588, 78.21705426356588, 78.21705426356588, 78.21705426356588, 78.21705426356588, 78.21705426356588, 78.21705426356588, 78.21705426356588, 78.21705426356588, 78.21705426356588, 78.21705426356588, 78.21705426356588, 78.21705426356588, 78.21705426356588, 78.21705426356588, 78.21705426356588, 78.21705426356588, 78.21705426356588, 78.21705426356588, 78.21705426356588, 78.21705426356588, 78.21705426356588, 78.21705426356588, 78.21705426356588, 78.21705426356588, 78.21705426356588, 78.21705426356588, 78.21705426356588, 78.21705426356588, 78.21705426356588, 78.21705426356588, 78.21705426356588, 78.21705426356588, 78.21705426356588, 78.21705426356588, 78.21705426356588, 78.21705426356588, 78.21705426356588, 78.21705426356588, 78.21705426356588, 78.21705426356588, 78.21705426356588, 78.21705426356588, 78.21705426356588, 78.21705426356588, 78.21705426356588, 78.21705426356588, 78.21705426356588, 78.21705426356588, 78.21705426356588, 78.21705426356588, 78.21705426356588, 78.21705426356588, 78.21705426356588, 78.21705426356588, 78.21705426356588, 78.21705426356588, 78.21705426356588, 78.21705426356588, 78.21705426356588, 78.21705426356588, 78.21705426356588, 78.21705426356588, 78.21705426356588, 78.21705426356588, 78.21705426356588, 78.21705426356588, 78.21705426356588, 78.21705426356588, 78.21705426356588, 78.21705426356588, 78.21705426356588, 78.21705426356588, 78.21705426356588, 78.21705426356588, 78.21705426356588, 78.21705426356588, 78.21705426356588, 78.21705426356588, 78.21705426356588, 78.21705426356588, 78.21705426356588, 78.21705426356588, 78.21705426356588, 78.21705426356588, 78.21705426356588, 78.21705426356588, 78.21705426356588, 78.21705426356588, 78.21705426356588, 78.21705426356588, 78.21705426356588, 78.21705426356588, 78.21705426356588, 78.21705426356588, 78.21705426356588, 78.21705426356588, 78.21705426356588, 78.21705426356588, 78.21705426356588, 78.21705426356588, 78.21705426356588, 78.21705426356588, 78.21705426356588, 78.21705426356588, 78.21705426356588, 78.21705426356588, 78.21705426356588, 78.21705426356588, 78.21705426356588, 78.21705426356588, 78.21705426356588, 78.21705426356588, 78.21705426356588, 78.21705426356588, 78.21705426356588, 78.21705426356588, 78.21705426356588, 78.21705426356588, 78.21705426356588, 78.21705426356588, 78.21705426356588, 78.21705426356588, 78.21705426356588, 78.21705426356588, 78.21705426356588, 78.21705426356588, 78.21705426356588, 78.21705426356588, 78.21705426356588, 78.21705426356588, 78.21705426356588, 78.21705426356588, 78.21705426356588, 78.21705426356588, 78.21705426356588, 78.21705426356588, 78.21705426356588, 78.21705426356588, 78.21705426356588, 78.21705426356588, 78.21705426356588, 78.21705426356588, 78.21705426356588, 78.21705426356588, 78.21705426356588, 78.21705426356588, 78.21705426356588, 78.21705426356588, 78.21705426356588, 78.21705426356588, 78.21705426356588, 78.21705426356588, 78.21705426356588, 78.21705426356588, 78.21705426356588, 78.21705426356588, 78.21705426356588, 78.21705426356588, 78.21705426356588, 78.21705426356588, 78.21705426356588, 78.21705426356588, 78.21705426356588, 78.21705426356588, 78.21705426356588, 78.21705426356588, 78.21705426356588, 78.21705426356588, 78.21705426356588, 78.21705426356588, 78.21705426356588, 78.21705426356588, 78.21705426356588, 78.21705426356588, 78.21705426356588, 78.21705426356588, 78.21705426356588]\n"
     ]
    }
   ],
   "source": [
    "example_num_runs = 3\n",
    "example_num_evaluations = 1_000\n",
    "config = read_config('configs/2a/green_config.txt', globals(), locals())\n",
    "\n",
    "(\n",
    "    example_best_per_run,\n",
    "    example_best_solution,\n",
    "    example_best_log,\n",
    "    example_stairstep_data,\n",
    "    example_hist\n",
    ") = random_search_experiment(example_num_runs,\n",
    "                             example_num_evaluations,\n",
    "                             config)\n",
    "\n",
    "print('Correct number of best fitnesses?', example_num_runs == len(example_best_per_run))\n",
    "\n",
    "print('Best fitness per run:', example_best_per_run)\n",
    "print('Best solution looks like:')\n",
    "print(example_best_solution.serialize())\n",
    "\n",
    "print('Histogram:')\n",
    "example_hist_plot = example_hist.get_plot('Example Random Search Experiment with ' +\\\n",
    "                                          f'{example_num_runs}*{example_num_evaluations} Evaluations')\n",
    "example_hist_plot.show()\n",
    "\n",
    "print('Stairstep data:')\n",
    "print(example_stairstep_data)"
   ]
  },
  {
   "cell_type": "markdown",
   "id": "b08f97b6-7a09-450d-bbfd-9ae0c4e1a0d4",
   "metadata": {},
   "source": [
    "As in previous assignments, the following cell defines a function that saves your results in a permanent format for later analysis."
   ]
  },
  {
   "cell_type": "code",
   "execution_count": 188,
   "id": "540fa591-477d-430e-b1ee-1f2a99c17210",
   "metadata": {},
   "outputs": [],
   "source": [
    "def save_data(best_per_run, best_solution, best_log, stairstep_data, hist, subdir, config):\n",
    "    subdir.mkdir(parents=True, exist_ok=True)\n",
    "    \n",
    "    with open(subdir / 'best_per_run.txt', 'w') as f:\n",
    "        for result in best_per_run:\n",
    "            f.write(str(result) + '\\n')\n",
    "\n",
    "    with open(subdir / 'best_solution.txt', 'w') as f:\n",
    "        f.write(best_solution.serialize())\n",
    "\n",
    "    with open(subdir / 'best_log.txt', 'w') as f:\n",
    "        for line in best_log:\n",
    "            f.write(str(line) + '\\n')\n",
    "\n",
    "    with open(subdir / 'stairstep.txt', 'w') as f:\n",
    "        f.write(str(stairstep_data))\n",
    "    \n",
    "    hist.save_to_file(subdir / 'histogram.txt')\n",
    "\n",
    "    print('Data saved to', subdir)"
   ]
  },
  {
   "cell_type": "markdown",
   "id": "3ed2db89-e19f-43ff-b6a3-463b21f8e8c6",
   "metadata": {},
   "source": [
    "Now run the next cell to save the results of our test experiment!"
   ]
  },
  {
   "cell_type": "code",
   "execution_count": 189,
   "id": "a24225e1-5242-4c97-9542-582a8424354a",
   "metadata": {},
   "outputs": [
    {
     "name": "stdout",
     "output_type": "stream",
     "text": [
      "Data saved to data/2a/example\n"
     ]
    }
   ],
   "source": [
    "save_data(example_best_per_run,\n",
    "          example_best_solution,\n",
    "          example_best_log,\n",
    "          example_stairstep_data,\n",
    "          example_hist,\n",
    "          Path('./data/2a/example/'),\n",
    "          config)\n",
    "example_hist_plot.savefig('data/2a/example/histogram.png')"
   ]
  },
  {
   "cell_type": "markdown",
   "id": "ab0a6159-9de0-4144-aba6-73edc6a2f6a4",
   "metadata": {},
   "source": [
    "Outside of this notebook, navigate to `./data/2a/example/` and take a look at what was saved. Make sure everything is there, and the data matches what we printed above.\n",
    "\n",
    "If everything works as expected, run the following cell to run your full experiment and save the data! Note this may take a while, as we are generating and testing quite a few solutions."
   ]
  },
  {
   "cell_type": "code",
   "execution_count": 190,
   "id": "0b8e34f8-10b6-4c2c-9f2b-d6acc4e23073",
   "metadata": {},
   "outputs": [
    {
     "name": "stdout",
     "output_type": "stream",
     "text": [
      "Data saved to data/2a/green\n"
     ]
    },
    {
     "data": {
      "application/vnd.jupyter.widget-view+json": {
       "model_id": "a0a0c14e7bf64f5b929e2f57363e5387",
       "version_major": 2,
       "version_minor": 0
      },
      "image/png": "[encoded data removed]",
      "text/html": [
       "\n",
       "            <div style=\"display: inline-block;\">\n",
       "                <div class=\"jupyter-widgets widget-label\" style=\"text-align: center;\">\n",
       "                    Figure\n",
       "                </div>\n",
       "                <img src='data:image/png;base64,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' width=1000.0/>\n",
       "            </div>\n",
       "        "
      ],
      "text/plain": [
       "Canvas(header_visible=False, toolbar=Toolbar(toolitems=[('Home', 'Reset original view', 'home', 'home'), ('Bac…"
      ]
     },
     "metadata": {},
     "output_type": "display_data"
    }
   ],
   "source": [
    "num_runs = 10\n",
    "num_evaluations = 10_000\n",
    "config = read_config('configs/2a/green_config.txt', globals(), locals())\n",
    "\n",
    "(\n",
    "    best_per_run,\n",
    "    best_solution,\n",
    "    best_log,\n",
    "    stairstep_data,\n",
    "    hist\n",
    ") = random_search_experiment(num_runs,\n",
    "                             num_evaluations,\n",
    "                             config)\n",
    "\n",
    "save_data(best_per_run,\n",
    "          best_solution,\n",
    "          best_log,\n",
    "          stairstep_data,\n",
    "          hist,\n",
    "          Path('./data/2a/green/'),\n",
    "          config)\n",
    "\n",
    "fig = hist.get_plot(f'Distribution of Scores over {num_runs} Runs of Random Search')\n",
    "fig.savefig('data/2a/green/histogram.png')\n",
    "fig.show()"
   ]
  },
  {
   "cell_type": "markdown",
   "id": "bbeb679f",
   "metadata": {},
   "source": [
    "# Preparing the Report\n",
    "Now that you've completed the implementation of random search, you need to use the data you've generated to create the report requested in the assignment description document. This report requires a histogram, which has already been made for you, as well as a stairstep plot, which we will walk through here, comments about the best game, which we will visualize for you, and some metrics based on the best scores.\n",
    "\n",
    "## Stairstep Plot\n",
    "Just as in Assignment 1a, the data used for your plot should demonstrate the search progress of the run that produced the highest score. The x-axis should be the number of evaluations, and the y-axis should be score. The plotted value is the highest score seen so far during the run.\n",
    "\n",
    "In the following cell, finish implementing the function which will generate your stairstep plot. All you need to do is write code that transforms `my_data` (which will be whatever data your experiment function returned) into `figure_y_values`, the y-values for the stairstep plot. Depending on how you collected data, this transformation may not even require any work at all. You are also free to rewrite this function's internal logic, if using `ax.step` or `ax.stairs` is simpler for your use-case (note this may require changing the way `figure_x_values` is calculated)."
   ]
  },
  {
   "cell_type": "code",
   "execution_count": 191,
   "id": "a77d2e23",
   "metadata": {},
   "outputs": [],
   "source": [
    "def make_stairstep(my_data, title, filename):\n",
    "    # Set this to the appropriate y values\n",
    "    # That is, the y-value that should be displayed, one per evaluation\n",
    "    figure_y_values = my_data\n",
    "\n",
    "    \n",
    "    \n",
    "    # x values are 1..num_evaluations if using ax.plot\n",
    "    # You *probably* don't need to change this\n",
    "    figure_x_values = [i + 1 for i in range(len(figure_y_values))]\n",
    "    \n",
    "    # This will plot the above x and y values for you\n",
    "    fig, ax = plt.subplots()\n",
    "    ax.plot(figure_x_values, figure_y_values)\n",
    "    ax.set(xlabel='Evaluations', ylabel='Score', title=title)\n",
    "    fig.canvas.header_visible = False\n",
    "    fig.canvas.footer_visible = False\n",
    "    fig.savefig(filename)"
   ]
  },
  {
   "cell_type": "markdown",
   "id": "a2310a96-30d8-4723-834e-ce84ad0246cd",
   "metadata": {},
   "source": [
    "With that function completed, run the following cell to generate your stairstep plot! We'll save it to `data/2a/green/stairstep.png`, as well as display it. Don't forget to put it in your report!"
   ]
  },
  {
   "cell_type": "code",
   "execution_count": 192,
   "id": "eb362234-7661-458b-8fc5-b6b1df10c87b",
   "metadata": {},
   "outputs": [
    {
     "data": {
      "application/vnd.jupyter.widget-view+json": {
       "model_id": "8309b974ebdc4ee68e3aa2412a858e8e",
       "version_major": 2,
       "version_minor": 0
      },
      "image/png": "[encoded data removed]",
      "text/html": [
       "\n",
       "            <div style=\"display: inline-block;\">\n",
       "                <div class=\"jupyter-widgets widget-label\" style=\"text-align: center;\">\n",
       "                    Figure\n",
       "                </div>\n",
       "                <img src='data:image/png;base64,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' width=1000.0/>\n",
       "            </div>\n",
       "        "
      ],
      "text/plain": [
       "Canvas(footer_visible=False, header_visible=False, toolbar=Toolbar(toolitems=[('Home', 'Reset original view', …"
      ]
     },
     "metadata": {},
     "output_type": "display_data"
    }
   ],
   "source": [
    "make_stairstep(stairstep_data,\n",
    "               'Random Search Best Score Progression',\n",
    "               'data/2a/green/stairstep.png')"
   ]
  },
  {
   "cell_type": "markdown",
   "id": "7c9b1dd3-8acc-487e-a9c5-4adbdd47bfec",
   "metadata": {},
   "source": [
    "## Visualization\n",
    "Simply run the following cell to get a visualization! This will be displayed in your notebook, and it will also be saved to your data directory. Note this may take several minutes."
   ]
  },
  {
   "cell_type": "code",
   "execution_count": null,
   "id": "aa6d813d-5ac5-4c90-9549-84383122cbcc",
   "metadata": {},
   "outputs": [],
   "source": [
    "animation = render_game(best_log)\n",
    "\n",
    "with open('data/2a/green/visualization.html', 'w') as f:\n",
    "    f.write(animation)\n",
    "\n",
    "display(HTML(animation))"
   ]
  },
  {
   "cell_type": "markdown",
   "id": "5fbe7498-4b04-4aa1-9fc8-5d86719411d1",
   "metadata": {},
   "source": [
    "You do not need to include the visualization itself in your report (though it does need to be in your data directory). We do, however, ask that you watch the game and provide a few qualitative comments about it in your report.\n",
    "\n",
    "## Best Scores\n",
    "In the following cell, write code to calculate the mean and standard deviation of the best score found in each run. Put these in your report."
   ]
  },
  {
   "cell_type": "code",
   "execution_count": 197,
   "id": "a653f36e-e688-4628-a473-78ab5c22ca2c",
   "metadata": {},
   "outputs": [
    {
     "name": "stdout",
     "output_type": "stream",
     "text": [
      "Mean:  114.25413067552603\n",
      "Standard Deviation:  13.366695919511455\n"
     ]
    }
   ],
   "source": [
    "# TODO: Calculate mean and standard deviation of your best score from each run here\n",
    "mean = statistics.mean(best_per_run)\n",
    "std = statistics.stdev(best_per_run)\n",
    "\n",
    "print(\"Mean: \", mean)\n",
    "print(\"Standard Deviation: \", std)"
   ]
  },
  {
   "cell_type": "markdown",
   "id": "7b1dd29a",
   "metadata": {},
   "source": [
    "# Red 1 Deliverable (Bonus)\n",
    "If attempting the Assignment 2a RED 1 deliverable, perform your experiment and analysis below. You may add new cells, if you wish. Note you should change your fitness function call to `play_GPac` to have `None` as the first argument, and your ghost controller as the second argument, i.e. `play_GPac(None, ghost_controller, **config['game'])`."
   ]
  },
  {
   "cell_type": "code",
   "execution_count": null,
   "id": "937ec7aa",
   "metadata": {},
   "outputs": [],
   "source": []
  },
  {
   "cell_type": "markdown",
   "id": "07099334",
   "metadata": {},
   "source": [
    "# Red 2 Deliverable (Bonus)\n",
    "If attempting the Assignemt 2a RED 2 deliverable, perform your experiment and analysis below. You may add new cells, if you wish."
   ]
  },
  {
   "cell_type": "code",
   "execution_count": null,
   "id": "94b34930",
   "metadata": {},
   "outputs": [],
   "source": []
  },
  {
   "cell_type": "markdown",
   "id": "d27f69a1",
   "metadata": {},
   "source": [
    "## References\n",
    "[1] A. E. Eiben and J. E. Smith, Introduction to Evolutionary Computing. Second Edition, Springer-Verlag,\n",
    "Berlin Heidelberg, 2015, ISBN 978-3-662-44873-1"
   ]
  }
 ],
 "metadata": {
  "kernelspec": {
   "display_name": "Python 3 (ipykernel)",
   "language": "python",
   "name": "python3"
  },
  "language_info": {
   "codemirror_mode": {
    "name": "ipython",
    "version": 3
   },
   "file_extension": ".py",
   "mimetype": "text/x-python",
   "name": "python",
   "nbconvert_exporter": "python",
   "pygments_lexer": "ipython3",
   "version": "3.11.9"
  }
 },
 "nbformat": 4,
 "nbformat_minor": 5
}
